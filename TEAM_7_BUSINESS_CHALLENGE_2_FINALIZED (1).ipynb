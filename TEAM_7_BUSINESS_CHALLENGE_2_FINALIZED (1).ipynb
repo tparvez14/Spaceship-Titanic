{
 "cells": [
  {
   "cell_type": "markdown",
   "id": "9fa403dd",
   "metadata": {},
   "source": [
    "<div style='padding: 1rem 0rem; margin: 2rem 0rem 1rem; text-align: center; font-family: \"Times New Roman\"; line-height: 2;' >\n",
    "    <b style='font-size: 2rem; font-weight: 900'>Spaceship Titanic Competition</b>\n",
    "    <br/><b style='font-size: 1.5rem;'>Business Challenge #2. | A1: Python Analysis - TEAM</b>\n",
    "</div>\n",
    "<div style='font-family: \"Times New Roman\"; padding: 1.5rem 0rem; border-bottom: 1px #d1d1d1 solid; text-align: right; line-height: 1.2rem;'>\n",
    "    <p style='text-align: right; padding: 0rem 2rem; font-size: 1.2rem;'><b>Hult International Business - school San Francisco</b></p>\n",
    "    <p style='text-align: right; padding: 0rem 2rem; font-size: 1.2rem;'><b>Team 7</b></p>\n",
    "    <p style='text-align: right; padding: 0rem 2rem; font-size: 1rem;'>Yunsik Choung | Azukaego Chukwuelue | Piyush Kumar | Siriphan Mongpho | Tangina Parvez</p>  \n",
    "</div>"
   ]
  },
  {
   "cell_type": "markdown",
   "id": "46d25962",
   "metadata": {},
   "source": [
    "<div style='font-family:\"Times New Roman\"; line-height: 2;'>\n",
    "    <h1>Introduction</h1>\n",
    "</div>"
   ]
  },
  {
   "cell_type": "markdown",
   "id": "4a490e08",
   "metadata": {},
   "source": [
    "<div style='font-family:\"Times New Roman\"; line-height: 2;'>\n",
    "    <p style='text-align: justify;'>&emsp;&emsp;To assist with the rescue efforts of the lost passengers, we must first comprehend the situation at hand.</p>\n",
    "    <p style='text-align: justify;'>&emsp;&emsp;In 2912, the Spaceship Titanic, a vessel designed for interstellar travel, collided with an anomaly in spacetime concealed within a dust cloud. Regrettably, the ship suffered a similar fate as its historical namesake, transporting almost half its passengers to an alternate dimension. Although the ship remained intact, our responsibility was to analyze data retrieved from its damaged computer system and use it to predict which passengers were affected by this phenomenon(Duprey & O’Leary, 1983).</p>\n",
    "    <p>&emsp;&emsp;Our task is to support the rescue operation by predicting which passengers were transported by the anomaly using records from the remains of the computer system. We will employ a machine learning process to solve this problem. Our approach will be to categorize data points into two buckets, transported or not transported, which will give the rescue team information on which passengers to recover and other characteristics or features that can support the rescue mission. \n",
    "</p>\n",
    "    <p style='text-align: justify;'>&emsp;&emsp;This is a binary classification problem, where we must predict whether or not a passenger was transported to an alternate dimension. We will be using the accuracy metric to evaluate our predictions' accuracy (Duprey & O’Leary, 1983).</p>\n",
    "</div>"
   ]
  },
  {
   "cell_type": "markdown",
   "id": "f1301c88",
   "metadata": {},
   "source": [
    "<div style='font-family:\"Times New Roman\"; line-height: 2;'>\n",
    "    <h1>Top three actionable insights</h1>\n",
    "</div>"
   ]
  },
  {
   "cell_type": "markdown",
   "id": "ab0a5685",
   "metadata": {},
   "source": [
    "<div style='font-family:\"Times New Roman\"; line-height: 2;'>\n",
    "    <h2>Safety- Human Planning as a critical part of a Tech solution:</h2>\n",
    "    <p style='text-align: justify;'>&emsp;&emsp;Data insights show that 82% of the passengers on CryoSleep were transported, a hitherto safety option that turned out to be the source of optimal risk. \n",
    "This could have been prevented as the ship had a significant number of passengers awake who could have worked collaboratively to wake the passengers on CryoSleep, improving their survival chances.</p>\n",
    "    <p style='text-align: justify;'>&emsp;&emsp;It seems that a clear Voyage continuity plan was missing, which, more often than not, is the case when technology is involved, as people assume that every piece has been taken care of. \n",
    "The need for a plan ‘B’ at every point in time cannot be overemphasized and it requires a detailed walk-through of every part of the process to ensure a backup survival option is in place.</p>\n",
    "    <p style='text-align: justify;'>&emsp;&emsp;The critical element required to make this work is leadership, and the opportunities to achieve this would be, in this case, to keep everyone calm and organized and devise solutions to problems as they arise, such as waking passengers in the same cabin who were in CryoSleep who will, in turn, have a better chance of helping others in the same cabin.</p>\n",
    "    <p style='text-align: justify;'>&emsp;&emsp;However, if there was an initial walk-through, a solution such as a switch to automatically awaken everyone immediately in the event that there is an unforeseen circumstance as the spaceship Titanic colliding with a spacetime anomaly, will also be helpful, especially for passengers asleep in cabins with no one awake.\n",
    ".</p>\n",
    "</div>"
   ]
  },
  {
   "cell_type": "markdown",
   "id": "6265b378",
   "metadata": {},
   "source": [
    "<div style='font-family:\"Times New Roman\"; line-height: 2;'>\n",
    "    <h2>Embrace diversity and inclusivity</h2>\n",
    "    <p style='text-align: justify;'>&emsp;&emsp;Events and data insights from the story show that  spaceship Titanic passengers faced significant challenges that required teamwork and synergy to navigate the issues successfully. \n",
    "The data shows that Europa and Mars passengers were largely VIPs, while passengers from Earth were non VIP’s. Considering that this voyage was on a luxury space vessel, it is expected that VIP status is a function of spending power and consequently influence. \n",
    "This spending power and influence seems not to have conferred any advantage, as facts from data exploration show that Europa and Mars have lost more than people from Earth by 66% and 52%, respectively. This, therefore, begs the question: was there no synergy or leadership in the ranks of the VIP? And we argue that this is a result of their eminence status.  \n",
    "This emphasizes the importance of cooperation and collaboration in crisis situations that require solving complex problems and achieving shared goals and underscores the age-old argument around diversity, equity, and inclusion being important success metrics ((Nelson, 2021)).</p>\n",
    "    <p style='text-align: justify;'>&emsp;&emsp;A way to achieve this was to have painstakingly ensured that the occupants of these VIP cabins should have been thoroughly instructed on the safety measures in the case of an unanticipated catastrophe. The leadership in such a crisis should have been adequately outlined, with responsible parties taking ownership and acting as a group.</p>\n",
    "    <p style='text-align: justify;'>&emsp;&emsp;The  NASA policy statement on DEIA fully supports the above “ At NASA, we fully embrace DEIA as a strategic enabler of our safety and mission assurance. Our commonalities unite us as a team. Our differences strengthen our capabilities, including our talent, skills, knowledge, experience, innovation, perspectives, and ideas that optimize performance and mitigate groupthink, optimism and confirmation bias, complacency, normalization of deviance, and risk.” (Nelson, 2021)</p>\n",
    "</div>"
   ]
  },
  {
   "cell_type": "markdown",
   "id": "a6c7f08e",
   "metadata": {},
   "source": [
    "<div style='font-family:\"Times New Roman\"; line-height: 2;'>\n",
    "    <h2>Establish a sustainable ecosystem on Spaceship Titanic</h2>\n",
    "    <p style='text-align: justify;'>&emsp;&emsp;We observed that the percentage of passengers (approx 70%) between the Age of zero to about four were transported which is more than that of older passengers.\n",
    "This is counterintuitive as this age grade is expected to be the most protected because children are always vulnerable and adults or parents should be awake to monitor and protect the kids from getting transported while the ship's ecosystem is damaged.</p>\n",
    "    <p style='text-align: justify;'>&emsp;&emsp;As seen from the data, the issue of inadequate availability of caregivers (minors without supervision)confers an unexpected but highly impactful challenge where resources would be inadequate for the transported and those who were not transported.</p>\n",
    "    <p style='text-align: justify;'>&emsp;&emsp;We assume the ship was not fully equipped to serve the number of children hence leading to the high volume of transported infants and toddler passengers whether they are in CryoSleep or awake. As a result,eeping them awake during the disaster or keeping them safe in Cryopods would require extra resources for their care and this would imply establishing a sustainable ecosystem, that will be helpful before and after rescuing the transported passengers.</p>\n",
    "    <p style='text-align: justify;'>&emsp;&emsp;To work correctly, We must ensure that the onboard resources are used efficiently and effectively to sustain life for all passengers and crew enabling extra childcare to be possible on board. This includes managing food, water, and air supplies and waste disposal systems.  Living on Earth has significantly fewer restrictions than the need in human spaceflightR so resources must be preserved rather than overused and the ecosystem needs to be adequate to ensure the source of fresh food and oxygen is essential by creating a closed-loop system where waste products are recycled and repurposed for use elsewhere on the ship. This will reduce waste and ensure that essential resources are well-spent and available when needed in unforseen circumstances as seeen here (Maiwald et al., 2021).</p>\n",
    "</div>"
   ]
  },
  {
   "cell_type": "markdown",
   "id": "327ebe39",
   "metadata": {},
   "source": [
    "<div style='font-family:\"Times New Roman\"; line-height: 2;'>\n",
    "    <h1>Analysis Introduction</h1>\n",
    "    <p style='text-align: justify;'>&emsp;&emsp;The Spaceship-Titanic dataset has a total 12,970 passengers data and 14 columns.  And it is split by train set (with 8693 passengers) and test set (with 4277 passengers). Train set has the target variable, named Transported, which means that the passenger was transported to another dimension or not. Test set does not have a target variable, so the purpose of this  study is to  estimate the test set  passengers' transported status by building a predictive model with 13 other variables. According to [Table 1.], some columns have more than single information, so this study focused on building full explanatory variables to estimate accurately. \n",
    "</p>\n",
    "</div>"
   ]
  },
  {
   "cell_type": "markdown",
   "id": "a7a42751",
   "metadata": {},
   "source": [
    "<div style='font-family:\"Times New Roman\"; line-height: 2;'>\n",
    "    <p style='font-weight: bold;'>[Table 1. Data Dictionary of Dataset]</p>\n",
    "    <table style='width: 100%; border-top: 2px #888 solid; border-bottom: 2px #888 solid;'>\n",
    "        <thead>\n",
    "            <tr>\n",
    "                <th style='width: 15%; text-align: center;'>Column</th>\n",
    "                <th style='text-align: center;'>Detail</th>\n",
    "            </tr>\n",
    "        </thead>\n",
    "        <tbody>\n",
    "            <tr>\n",
    "                <th style='text-align: center;'>PassengerId</th>\n",
    "                <td style='text-align: justify;'>A unique Id for each passenger. Each Id takes the form gggg_pp where gggg indicates a group the passenger is travelling with and pp is their number within the group. People in a group are often family members, but not always.</td>\n",
    "            </tr>\n",
    "            <tr>\n",
    "                <th style='text-align: center;'>HomePlanet</th>\n",
    "                <td style='text-align: justify;'>The planet the passenger departed from, typically their planet of permanent residence.</td>\n",
    "            </tr>\n",
    "            <tr>\n",
    "                <th style='text-align: center;'>CryoSleep</th>\n",
    "                <td style='text-align: justify;'>Indicates whether the passenger elected to be put into suspended animation for the duration of the voyage. Passengers in cryosleep are confined to their cabins.</td>\n",
    "            </tr>\n",
    "            <tr>\n",
    "                <th style='text-align: center;'>Cabin</th>\n",
    "                <td style='text-align: justify;'>The cabin number where the passenger is staying. Takes the form deck/num/side, where side can be either P for Port or S for Starboard.</td>\n",
    "            </tr>\n",
    "            <tr>\n",
    "                <th \n",
    "                    style='text-align: center;'>Destination</th>\n",
    "                <td style='text-align: justify;'>The planet the passenger will be debarking to.</td>\n",
    "            </tr>\n",
    "            <tr>\n",
    "                <th style='text-align: center;'>Age</th>\n",
    "                <td style='text-align: justify;'>The age of the passenger.</td>\n",
    "            </tr>\n",
    "            <tr>\n",
    "                <th style='text-align: center;'>VIP</th>\n",
    "                <td style='text-align: justify;'>Whether the passenger has paid for special VIP service during the voyage.</td>\n",
    "            </tr>\n",
    "            <tr>\n",
    "                <th style='text-align: center;'>RoomService</th>\n",
    "                <td rowspan=5 style='vertical-align: top; text-align: justify;'>Amount the passenger has billed at each of the Spaceship Titanic's many luxury amenities.</td>\n",
    "            </tr>\n",
    "            <tr>\n",
    "                <th style='text-align: center;'>FoodCourt</th>\n",
    "            </tr>\n",
    "            <tr>\n",
    "                <th style='text-align: center;'>ShoppingMall</th>\n",
    "            </tr>\n",
    "            <tr>\n",
    "                <th style='text-align: center;'>Spa</th>\n",
    "            </tr>\n",
    "            <tr>\n",
    "                <th style='text-align: center;'>VRDeck</th>\n",
    "            </tr>\n",
    "            <tr>\n",
    "                <th style='text-align: center;'>Name</th>\n",
    "                <td style='text-align: justify;'>The first and last names of the passenger.</td>\n",
    "            </tr>\n",
    "            <tr>\n",
    "                <th style='text-align: center;'>Transported</th>\n",
    "                <td style='text-align: justify;'>Whether the passenger was transported to another dimension. This is the target, the column you are trying to predict.</td>\n",
    "            </tr>\n",
    "        </tbody>\n",
    "    </table>\n",
    "</div>    "
   ]
  },
  {
   "cell_type": "markdown",
   "id": "3691400a",
   "metadata": {},
   "source": [
    "<div style='font-family:\"Times New Roman\"; line-height: 2;'>\n",
    "    <p style='text-align: justify;'>&emsp;&emsp;The dataset is problematic with some missing values;  the  train set substantially has missing values as 2.0 to 2.5 percent of total in all columns, and test set also has missing values as 1.8 to 2.5 percent of total. So our tasks concentrated on cleaning missing values as accurately as possible using every other information..</p>\n",
    "</div>"
   ]
  },
  {
   "cell_type": "markdown",
   "id": "e7101904",
   "metadata": {},
   "source": [
    "<div style='font-family:\"Times New Roman\"; line-height: 2;'>\n",
    "    <p style='font-weight: bold;'>[Table 2. Missing Values of Dataset]</p>\n",
    "    <table style='width: 100%; border-top: 2px #888 solid; border-bottom: 2px #888 solid;'>\n",
    "        <thead>\n",
    "            <tr>\n",
    "                <th style='text-align: center;'>Column</th>\n",
    "                <th style='text-align: right;'>Train Sets</th>\n",
    "                <th style='text-align: right;'>Test Sets</th>\n",
    "            </tr>\n",
    "        </thead>\n",
    "        <tbody>\n",
    "            <tr>\n",
    "                <th style='text-align: center;'>HomePlanet</th>\n",
    "                <td style='text-align: right;'>2.31 %</td>\n",
    "                <td style='text-align: right;'>2.03 %</td>\n",
    "            </tr>\n",
    "            <tr>\n",
    "                <th style='text-align: center;'>CryoSleep</th>\n",
    "                <td style='text-align: right;'>2.50 %</td>\n",
    "                <td style='text-align: right;'>2.17 %</td>\n",
    "            </tr>\n",
    "            <tr>\n",
    "                <th style='text-align: center;'>Cabin</th>\n",
    "                <td style='text-align: right;'>2.29 %</td>\n",
    "                <td style='text-align: right;'>2.34 %</td>\n",
    "            </tr>\n",
    "            <tr>\n",
    "                <th \n",
    "                    style='text-align: center;'>Destination</th>\n",
    "                <td style='text-align: right;'>2.09 %</td>\n",
    "                <td style='text-align: right;'>2.15 %</td>\n",
    "            </tr>\n",
    "            <tr>\n",
    "                <th style='text-align: center;'>Age</th>\n",
    "                <td style='text-align: right;'>2.06 %</td>\n",
    "                <td style='text-align: right;'>2.13 %</td>\n",
    "            </tr>\n",
    "            <tr>\n",
    "                <th style='text-align: center;'>VIP</th>\n",
    "                <td style='text-align: right;'>2.34 %</td>\n",
    "                <td style='text-align: right;'>2.17 %</td>\n",
    "            </tr>\n",
    "            <tr>\n",
    "                <th style='text-align: center;'>RoomService</th>\n",
    "                <td style='text-align: right;'>2.08 %</td>\n",
    "                <td style='text-align: right;'>1.92 %</td>\n",
    "            </tr>\n",
    "            <tr>\n",
    "                <th style='text-align: center;'>FoodCourt</th>\n",
    "                <td style='text-align: right;'>2.11 %</td>\n",
    "                <td style='text-align: right;'>2.48 %</td>\n",
    "            </tr>\n",
    "            <tr>\n",
    "                <th style='text-align: center;'>ShoppingMall</th>\n",
    "                <td style='text-align: right;'>2.39 %</td>\n",
    "                <td style='text-align: right;'>2.29 %</td>\n",
    "            </tr>\n",
    "            <tr>\n",
    "                <th style='text-align: center;'>Spa</th>\n",
    "                <td style='text-align: right;'>2.11 %</td>\n",
    "                <td style='text-align: right;'>2.36 %</td>\n",
    "            </tr>\n",
    "            <tr>\n",
    "                <th style='text-align: center;'>VRDeck</th>\n",
    "                <td style='text-align: right;'>2.16 %</td>\n",
    "                <td style='text-align: right;'>1.87 %</td>\n",
    "            </tr>\n",
    "            <tr>\n",
    "                <th style='text-align: center;'>Name</th>\n",
    "                <td style='text-align: right;'>2.30  %</td>\n",
    "                <td style='text-align: right;'>2.20 %</td>\n",
    "            </tr>\n",
    "        </tbody>\n",
    "    </table>\n",
    "</div>    "
   ]
  },
  {
   "cell_type": "markdown",
   "id": "d7f5760f",
   "metadata": {},
   "source": [
    "<div style='font-family:\"Times New Roman\"; line-height: 2;'>\n",
    "    <p style='text-align: justify;'>&emsp;&emsp;After cleansing missing data, this study found some engineered features, which  correlated more with the target variable, [Table 3.] shows those features and what we assumed for each new features. </p>\n",
    "</div>"
   ]
  },
  {
   "cell_type": "markdown",
   "id": "d2e8eea3",
   "metadata": {},
   "source": [
    "<div style='font-family:\"Times New Roman\"; line-height: 2;'>\n",
    "    <p style='font-weight: bold;'>[Table 3. Engineered Features and its Assumptions]</p>\n",
    "    <table style='width: 100%; border-top: 2px #888 solid; border-bottom: 2px #888 solid;'>\n",
    "        <thead>\n",
    "            <tr>\n",
    "                <th style='width: 15%; text-align: left;'>Features</th>\n",
    "                <th style='text-align: left;'>Definition</th>\n",
    "                <th style='text-align: left;'>Assumptions</th>\n",
    "            </tr>\n",
    "        </thead>\n",
    "        <tbody>\n",
    "            <tr>\n",
    "                <th style='text-align: left;'>Zero_RoomService</th>\n",
    "                <td style='text-align: left;'>Passengers who did not spend for room service.</td>\n",
    "                <td rowspan=4 style='vertical-align: top; text-align: left;'>The assumption is the same as TOTAL_SPEND, but these are dummy variables of each range of room service spending.</td>\n",
    "            </tr>\n",
    "            <tr>\n",
    "                <th style='text-align: left;'>RoomService_low</th>\n",
    "                <td style='text-align: left;'>Passengers who spent for room service less and equal to 80.</td>\n",
    "            </tr>\n",
    "            <tr>\n",
    "                <th style='text-align: left;'>RoomService_med</th>\n",
    "                <td style='text-align: left;'>Passengers who spent for room service less and equal to 650.</td>\n",
    "            </tr>\n",
    "            <tr>\n",
    "                <th style='text-align: left;'>RoomService_high</th>\n",
    "                <td style='text-align: left;'>Passengers who spent for room service greater than 650.</td>\n",
    "            </tr>\n",
    "            <tr>\n",
    "                <th style='text-align: left;'>Zero_spa</th>\n",
    "                <td style='text-align: left;'>Passengers who did not spend for spa service.</td>\n",
    "                <td rowspan=4 style='vertical-align: top; text-align: left;'>The assumption is the same as TOTAL_SPEND, but these are dummy variables of each range of spa service spending.</td>\n",
    "            </tr>\n",
    "            <tr>\n",
    "                <th style='text-align: left;'>spa_low</th>\n",
    "                <td style='text-align: left;'>Passengers who spent for spa service less and equal to 60.</td>\n",
    "            </tr>\n",
    "            <tr>\n",
    "                <th style='text-align: left;'>spa_med</th>\n",
    "                <td style='text-align: left;'>Passengers who spent for spa service less and equal to 600.</td>\n",
    "            </tr>\n",
    "            <tr>\n",
    "                <th style='text-align: left;'>spa_high</th>\n",
    "                <td style='text-align: left;'>Passengers who spent for spa service greater than 600.</td>\n",
    "            </tr>\n",
    "            <tr>\n",
    "                <th style='text-align: left;'>Zero_VRDeck</th>\n",
    "                <td style='text-align: left;'>Passengers who did not spend for VRDeck service.</td>\n",
    "                <td rowspan=4 style='vertical-align: top; text-align: left;'>The assumption is the same as TOTAL_SPEND, but these are dummy variables of each range of VRDeck service spending.</td>\n",
    "            </tr>\n",
    "            <tr>\n",
    "                <th style='text-align: left;'>VRDeck_low</th>\n",
    "                <td style='text-align: left;'>Passengers who spent for VRDeck service less and equal to 65.</td>\n",
    "            </tr>\n",
    "            <tr>\n",
    "                <th style='text-align: left;'>VRDeck_med</th>\n",
    "                <td style='text-align: left;'>Passengers who spent for VRDeck service less and equal to 620.</td>\n",
    "            </tr>\n",
    "            <tr>\n",
    "                <th style='text-align: left;'>VRDeck_high</th>\n",
    "                <td style='text-align: left;'>Passengers who spent for VRDeck service greater than 620.</td>\n",
    "            </tr>\n",
    "            <tr>\n",
    "                <th style='text-align: left;'>KIDS</th>\n",
    "                <td style='text-align: left;'>Passengers who are less and equal to 17 years old.</td>\n",
    "                <td style='text-align: left;'>Younger passengers who are less and equal to 17 years old are transported.</td>\n",
    "            </tr>\n",
    "            <tr>\n",
    "                <th style='text-align: left;'>TODDLER</th>\n",
    "                <td style='text-align: left;'>Passengers who are between 1 and 4 years old.</td>\n",
    "                <td style='text-align: left;'>Younger passengers who are between one and four years old are transported.</td>\n",
    "            </tr>\n",
    "            <tr>\n",
    "                <th style='text-align: left;'>INFANT</th>\n",
    "                <td style='text-align: left;'>Passengers who are 0 years old.</td>\n",
    "                <td style='text-align: left;'>Infant passengers who are zero years old are transported.</td>\n",
    "            </tr>\n",
    "            <tr>\n",
    "                <th style='text-align: left;'>GROUP_YN</th>\n",
    "                <td style='text-align: left;'>Passengers being with other group passengers.</td>\n",
    "                <td style='text-align: left;'>If someone travels with a group, they can help each other.</td>\n",
    "            </tr>\n",
    "            <tr>\n",
    "                <th style='text-align: left;'>Deck_BC</th>\n",
    "                <td style='text-align: left;'>Passengers whose cabin was on Deck B and Deck C have more proportion of transport.</td>\n",
    "                <td style='text-align: left;'>Something happened where it is close to Deck B and Deck C. </td>\n",
    "            </tr>\n",
    "            <tr>\n",
    "                <th style='text-align: left;'>Cabin_Sleep</th>\n",
    "                <td style='text-align: left;'>Passengers who use the same cabin and all of those were sleeping.</td>\n",
    "                <td style='text-align: left;'>If all passengers in the same cabin were sleeping, they could not avoid disaster.</td>\n",
    "            </tr>\n",
    "            <tr>\n",
    "                <th style='text-align: left;'>Cabin_Awake</th>\n",
    "                <td style='text-align: left;'>Passengers who use the same cabin and all of those were not sleeping.</td>\n",
    "                <td style='text-align: left;'>If all passengers in the same cabin were not sleeping, they could avoid disaster easier.</td>\n",
    "            </tr>\n",
    "            <tr>\n",
    "                <th style='text-align: left;'>Cabin_Mixed</th>\n",
    "                <td style='text-align: left;'>Passengers who use the same cabin but at least one of them was not sleeping.</td>\n",
    "                <td style='text-align: left;'>If at least one of the passengers in the same cabin was not sleeping, awakened passengers could help others.</td>\n",
    "            </tr>\n",
    "            <tr>\n",
    "                <th style='text-align: left;'>Grp_Sleep</th>\n",
    "                <td style='text-align: left;'>Passengers who use the same group and all of those were sleeping.</td>\n",
    "                <td style='text-align: left;'>If all passengers in the same group were sleeping, they could not avoid disaster.</td>\n",
    "            </tr>\n",
    "            <tr>\n",
    "                <th style='text-align: left;'>Grp_Awake</th>\n",
    "                <td style='text-align: left;'>Passengers who use the same group and all of those were sleeping.</td>\n",
    "                <td style='text-align: left;'>If all passengers in the same group were not sleeping, they could avoid disaster easier.</td>\n",
    "            </tr>\n",
    "            <tr>\n",
    "                <th style='text-align: left;'>Grp_Mixed</th>\n",
    "                <td style='text-align: left;'>Passengers who use the same group but at least one of them was not sleeping.</td>\n",
    "                <td style='text-align: left;'>If at least one of the passengers in the same group was not sleeping, awakened passengers could help others.</td>\n",
    "            </tr>\n",
    "        </tbody>\n",
    "    </table>\n",
    "</div>    "
   ]
  },
  {
   "cell_type": "markdown",
   "id": "516e04d7",
   "metadata": {},
   "source": [
    "<div style='font-family:\"Times New Roman\"; line-height: 2;'>\n",
    "    <p style='text-align: justify;'>&emsp;&emsp;Finally, this study built prediction models to predict the test set’s passenger’s transported status, using the Logistic Regression model with high correlation features, the Random Forest Classifier Model with full features, and Gradient Boosting Classifier Model with full features. We trained the models with train-test split data from the actual train dataset (test set as 25% of the actual train set,  2,174 of 8,693 passengers.) and predicted transported passengers in the actual test dataset based on that results. [Table 4.] shows that this study’s best-fitted model, Gradient Boosting Classifier, could estimate 911 transported passengers and 832 not transported passengers, and could not calculate 184 actual transported passengers and 247 real not transported passengers; it means that our model’s AUC score is 80.15.</p>\n",
    "</div>"
   ]
  },
  {
   "cell_type": "markdown",
   "id": "bfff2f01",
   "metadata": {},
   "source": [
    "<div style='font-family:\"Times New Roman\"; line-height: 2;'>\n",
    "    <p style='font-weight: bold;'>[Table 4. Best Fitted Model Result - Gradient Boosting Model]\n",
    "</p>\n",
    "    <table style='width: 100%; border-top: 2px #888 solid; border-bottom: 2px #888 solid;'>\n",
    "        <thead>\n",
    "            <tr>\n",
    "                <th rowspan=2 colspan=2 style='text-align: left;'>Gradient Boosting Classifier<br/>Confusion Matrix\n",
    "</th>\n",
    "                <th colspan=2 style='text-align: center;'>Model Prediction Results</th>\n",
    "            </tr>\n",
    "            <tr>\n",
    "                <th style='text-align: right;'>Not Transported</th>\n",
    "                <th style='text-align: right;'>Transported</th>\n",
    "            </tr>\n",
    "        </thead>\n",
    "        <tbody>\n",
    "            <tr>\n",
    "                <th rowspan=2 style='text-align: left;'>Actual Results</th>\n",
    "                <th style='text-align: left;'>Not Transported</th>\n",
    "                <td>832</td>\n",
    "                <td>247</td>\n",
    "            </tr>\n",
    "            <tr>\n",
    "                <th style='text-align: left;'>Transported</th>\n",
    "                <td>184</td>\n",
    "                <td>911</td>\n",
    "            </tr>\n",
    "            <tr>\n",
    "                <td colspan=4 style='text-align:left; border-top: 1px #aaa solid;'>\n",
    "                    <b>Train Accuracy</b>: 0.8317\n",
    "                    <br/><b>Test Accuracy</b>: 0.797\n",
    "                    <br/><b>Train-Test Gap</b>: 0.035\n",
    "                    <br/><b>AUC Score</b>: 0.8015 - <b>Threshold</b>: 0.47\n",
    "                </td>\n",
    "            </tr>\n",
    "        </tbody>\n",
    "    </table>\n",
    "</div>    "
   ]
  },
  {
   "cell_type": "markdown",
   "id": "7d7ce97f",
   "metadata": {},
   "source": [
    "<div style='font-family:\"Times New Roman\"; line-height: 2;'>\n",
    "    <h1>Analysis Details</h1>\n",
    "    <h2>Data Preperation</h2>\n",
    "    <h3>Importing files and libraries</h3>\n",
    "</div>"
   ]
  },
  {
   "cell_type": "code",
   "execution_count": 1,
   "id": "0ed2334a",
   "metadata": {
    "deletable": false,
    "editable": false
   },
   "outputs": [],
   "source": [
    "# This Python 3 environment comes with many helpful analytics libraries installed\n",
    "# It is defined by the kaggle/python Docker image: https://github.com/kaggle/docker-python\n",
    "# For example, here's several helpful packages to load\n",
    "\n",
    "import numpy as np # linear algebra\n",
    "import pandas as pd # data processing, CSV file I/O (e.g. pd.read_csv)\n",
    "\n",
    "# Input data files are available in the read-only \"../input/\" directory\n",
    "# For example, running this (by clicking run or pressing Shift+Enter) will list all files under the input directory\n",
    "\n",
    "import os\n",
    "for dirname, _, filenames in os.walk('/kaggle/input'):\n",
    "    for filename in filenames:\n",
    "        print(os.path.join(dirname, filename))\n",
    "\n",
    "# You can write up to 20GB to the current directory (/kaggle/working/) that gets preserved as output when you create a version using \"Save & Run All\" \n",
    "# You can also write temporary files to /kaggle/temp/, but they won't be saved outside of the current session"
   ]
  },
  {
   "cell_type": "markdown",
   "id": "e85c2050",
   "metadata": {},
   "source": [
    "<div style='font-family:\"Times New Roman\"; line-height: 2;'>\n",
    "    <h3>Libraries</h3>\n",
    "</div>"
   ]
  },
  {
   "cell_type": "code",
   "execution_count": 2,
   "id": "e9351fa3",
   "metadata": {
    "deletable": false,
    "editable": false
   },
   "outputs": [],
   "source": [
    "# Chart\n",
    "import seaborn as sns\n",
    "import matplotlib.pyplot as plt\n",
    "\n",
    "# modeling library\n",
    "import sklearn.linear_model                          # linear modeling in scikit-learn\n",
    "from sklearn.ensemble import RandomForestClassifier\n",
    "from sklearn.ensemble import GradientBoostingClassifier\n",
    "from sklearn.linear_model import LogisticRegression\n",
    "from sklearn.tree import DecisionTreeClassifier\n",
    "from sklearn.neighbors import KNeighborsClassifier\n",
    "\n",
    "# other model building tools\n",
    "from sklearn.model_selection import train_test_split # train-test split\n",
    "from sklearn.metrics import roc_auc_score            # auc score\n",
    "from sklearn.metrics import confusion_matrix\n",
    "from sklearn.preprocessing import StandardScaler\n",
    "from sklearn.model_selection import RandomizedSearchCV"
   ]
  },
  {
   "cell_type": "markdown",
   "id": "0e126241",
   "metadata": {},
   "source": [
    "<div style='font-family:\"Times New Roman\"; line-height: 2;'>\n",
    "    <h3>Set Printing Options</h3>\n",
    "</div>"
   ]
  },
  {
   "cell_type": "code",
   "execution_count": 3,
   "id": "0c198f1c",
   "metadata": {
    "deletable": false,
    "editable": false
   },
   "outputs": [],
   "source": [
    "# setting pandas print options\n",
    "pd.set_option('display.max_rows', 500)\n",
    "pd.set_option('display.max_columns', 500)\n",
    "pd.set_option('display.width', 1000)"
   ]
  },
  {
   "cell_type": "markdown",
   "id": "516793da",
   "metadata": {},
   "source": [
    "<div style='font-family:\"Times New Roman\"; line-height: 2;'>\n",
    "    <h3>User defined functions</h3>\n",
    "</div>"
   ]
  },
  {
   "cell_type": "code",
   "execution_count": 4,
   "id": "fa26610f",
   "metadata": {
    "deletable": false,
    "editable": false
   },
   "outputs": [],
   "source": [
    "########################################\n",
    "# mostFittedThreshold\n",
    "########################################\n",
    "def mostFittedThreshold(y_true, pred_proba):\n",
    "    \"\"\"\n",
    "Check most fitted threshold beween 0.01 and 0.99\n",
    "\n",
    "PARAMETERS\n",
    "----------\n",
    "y_true        : Actual y data to compare AUC.\n",
    "pred_proba    : sklearn classifier Model's pred_proba result set.\n",
    "    \"\"\"\n",
    "    # Define Arage of 0.01 to 0.99\n",
    "    arange = []\n",
    "    for i in range(1, 100, 1):\n",
    "        x = i / 100\n",
    "        arange.append(x)\n",
    "    # Make DataFrame from pred_proba result\n",
    "    pred_df = pd.DataFrame(pred_proba, columns=['Negative', 'Positive'])\n",
    "    \n",
    "    # Check all threshold and define each column named p_1 to p_99\n",
    "    for x in arange:\n",
    "        # Define column name\n",
    "        new_col = 'p_' + str(int(x*100))\n",
    "        # build new column's prediction y data from thrashold range\n",
    "        for index, row in pred_df.iterrows():\n",
    "            # Check only positive probabilities\n",
    "            if row['Positive'] > x:\n",
    "                pred_df.loc[index, new_col] = 1\n",
    "            else:\n",
    "                pred_df.loc[index, new_col] = 0\n",
    "    # Declare roc_auc_list\n",
    "    roc_auc_list = []\n",
    "    # Store evrery auc score with column name, AUC_SCORE, Threshold\n",
    "    for col in pred_df.iloc[:, 2:]:\n",
    "        # Declare inner dictionary\n",
    "        inner = {}\n",
    "        # Calculate roc_auc_score from matched threshold\n",
    "        auc_score = roc_auc_score(y_true, pred_df[col])\n",
    "        # REDEFINE threshold from column name\n",
    "        threshHold = int(col.replace('p_', '')) / 100\n",
    "        # Store result to dictionary\n",
    "        inner['Threshold'] = threshHold\n",
    "        inner['AUC_SCORE'] = auc_score\n",
    "        inner['COL'] = col\n",
    "        # Appending to roc_auc_list\n",
    "        roc_auc_list.append(inner)\n",
    "    # Declare response dataframe from roc_auc_list\n",
    "    resp = pd.DataFrame(roc_auc_list)\n",
    "    # Sort every values \n",
    "    resp = resp.sort_values(by='AUC_SCORE', ascending=False).reset_index()\n",
    "    # Build confusion matrix from highest auc_score\n",
    "    conf_matrix = confusion_matrix(y_true=y_true, y_pred=pred_df[resp.loc[0, 'COL']])\n",
    "    # Declare finalized response value\n",
    "    response = {'Threshold': resp.loc[0, 'Threshold'], 'AUC_SCORE': resp.loc[0, 'AUC_SCORE'], 'Confusion_matrix': conf_matrix}\n",
    "    # Return response\n",
    "    return response"
   ]
  },
  {
   "cell_type": "markdown",
   "id": "dd50ab58",
   "metadata": {},
   "source": [
    "<div style='font-family:\"Times New Roman\"; line-height: 2;'>\n",
    "    <h3>Import Train Set and Test Set</h3>\n",
    "</div>"
   ]
  },
  {
   "cell_type": "markdown",
   "id": "01ab7c54",
   "metadata": {},
   "source": [
    "<div style='font-family:\"Times New Roman\"; line-height: 2;'>\n",
    "    <h5>Analysis output 1.</h5>\n",
    "    <p style='text-align: justify;'>&emsp;&emsp;The train dataset has 14 columns, including the target variable and 8,693 observations. PassengerId and Transported columns do not have any missing values, and the other 12 columns have missing values. On the other hand, the test dataset has 13 columns without a target variable and a total of 4,277 passengers. PassengerId does not have missing values like the train set, and the other 12 columns have missing values. Both the train dataset and test dataset have missing values around 2% of its total observations.</p>\n",
    "</div>"
   ]
  },
  {
   "cell_type": "code",
   "execution_count": 5,
   "id": "da286021",
   "metadata": {
    "cell_style": "split",
    "deletable": false,
    "editable": false
   },
   "outputs": [
    {
     "name": "stdout",
     "output_type": "stream",
     "text": [
      "\n",
      "Analysis Output 1 - 1. \n",
      "----------------------------------------------------\n",
      "\n",
      "Missing Value Rate: 2.06%\n",
      "\n",
      "Train Dataset Information\n",
      "========================================\n",
      "\n",
      "<class 'pandas.core.frame.DataFrame'>\n",
      "RangeIndex: 8693 entries, 0 to 8692\n",
      "Data columns (total 14 columns):\n",
      " #   Column        Non-Null Count  Dtype  \n",
      "---  ------        --------------  -----  \n",
      " 0   PassengerId   8693 non-null   object \n",
      " 1   HomePlanet    8492 non-null   object \n",
      " 2   CryoSleep     8476 non-null   object \n",
      " 3   Cabin         8494 non-null   object \n",
      " 4   Destination   8511 non-null   object \n",
      " 5   Age           8514 non-null   float64\n",
      " 6   VIP           8490 non-null   object \n",
      " 7   RoomService   8512 non-null   float64\n",
      " 8   FoodCourt     8510 non-null   float64\n",
      " 9   ShoppingMall  8485 non-null   float64\n",
      " 10  Spa           8510 non-null   float64\n",
      " 11  VRDeck        8505 non-null   float64\n",
      " 12  Name          8493 non-null   object \n",
      " 13  Transported   8693 non-null   bool   \n",
      "dtypes: bool(1), float64(6), object(7)\n",
      "memory usage: 891.5+ KB\n"
     ]
    }
   ],
   "source": [
    "# importing the training dataset\n",
    "path             = \"/kaggle/input/spaceship-titanic/\"\n",
    "training_dataset = \"train.csv\"\n",
    "\n",
    "# reading in the .csv file with pandas\n",
    "# This line stands for Kaggle - If you want to run code on Kaggle, remove Comment\n",
    "#titanic_train    = pd.read_csv(filepath_or_buffer = path + training_dataset)\n",
    "\n",
    "# This line stands for Own Laptop\n",
    "titanic_train = pd.read_csv('./train.csv')\n",
    "null_rate = (titanic_train.drop('Transported', axis=1).isna().sum().sum() / (titanic_train.shape[0] * titanic_train.drop('Transported', axis=1).shape[1]) * 100).round(decimals=2)\n",
    "print(f\"\"\"\n",
    "Analysis Output 1 - 1. \n",
    "----------------------------------------------------\n",
    "\n",
    "Missing Value Rate: {null_rate}%\n",
    "\n",
    "Train Dataset Information\n",
    "========================================\n",
    "\"\"\")\n",
    "# checking basic info about the dataset\n",
    "titanic_train.info(verbose = True)"
   ]
  },
  {
   "cell_type": "code",
   "execution_count": 6,
   "id": "dfeb9792",
   "metadata": {
    "cell_style": "split",
    "deletable": false,
    "editable": false
   },
   "outputs": [
    {
     "name": "stdout",
     "output_type": "stream",
     "text": [
      "\n",
      "Analysis Output 1 - 2. \n",
      "----------------------------------------------------\n",
      "\n",
      "Missing Value Rate: 2.01%\n",
      "\n",
      "Test Dataset Information\n",
      "========================================\n",
      "\n",
      "<class 'pandas.core.frame.DataFrame'>\n",
      "RangeIndex: 4277 entries, 0 to 4276\n",
      "Data columns (total 13 columns):\n",
      " #   Column        Non-Null Count  Dtype  \n",
      "---  ------        --------------  -----  \n",
      " 0   PassengerId   4277 non-null   object \n",
      " 1   HomePlanet    4190 non-null   object \n",
      " 2   CryoSleep     4184 non-null   object \n",
      " 3   Cabin         4177 non-null   object \n",
      " 4   Destination   4185 non-null   object \n",
      " 5   Age           4186 non-null   float64\n",
      " 6   VIP           4184 non-null   object \n",
      " 7   RoomService   4195 non-null   float64\n",
      " 8   FoodCourt     4171 non-null   float64\n",
      " 9   ShoppingMall  4179 non-null   float64\n",
      " 10  Spa           4176 non-null   float64\n",
      " 11  VRDeck        4197 non-null   float64\n",
      " 12  Name          4183 non-null   object \n",
      "dtypes: float64(6), object(7)\n",
      "memory usage: 434.5+ KB\n"
     ]
    }
   ],
   "source": [
    "# importing the training dataset\n",
    "path             = \"/kaggle/input/spaceship-titanic/\"\n",
    "testing_dataset  = 'test.csv'\n",
    "\n",
    "# importing the testing dataset\n",
    "# This line stands for Kaggle\n",
    "#titanic_test = pd.read_csv(filepath_or_buffer = path + testing_dataset)\n",
    "\n",
    "# This line stands for Own Laptop\n",
    "titanic_test = pd.read_csv('./test.csv')\n",
    "null_rate = (titanic_test.isna().sum().sum() / (titanic_test.shape[0] * titanic_test.shape[1]) * 100).round(decimals=2)\n",
    "print(f\"\"\"\n",
    "Analysis Output 1 - 2. \n",
    "----------------------------------------------------\n",
    "\n",
    "Missing Value Rate: {null_rate}%\n",
    "\n",
    "Test Dataset Information\n",
    "========================================\n",
    "\"\"\")\n",
    "# checking basic info about the dataset\n",
    "titanic_test.info(verbose = True)"
   ]
  },
  {
   "cell_type": "code",
   "execution_count": 7,
   "id": "53bbf4e6",
   "metadata": {
    "deletable": false,
    "editable": false
   },
   "outputs": [
    {
     "name": "stderr",
     "output_type": "stream",
     "text": [
      "C:\\Users\\yunsi\\AppData\\Local\\Temp\\ipykernel_13380\\3062650574.py:6: FutureWarning: The frame.append method is deprecated and will be removed from pandas in a future version. Use pandas.concat instead.\n",
      "  titanic_df = titanic_train.append(other = titanic_test)\n"
     ]
    }
   ],
   "source": [
    "# Set Categorical information for Training Set and Testing Set\n",
    "titanic_train['set'] = 'Training'\n",
    "titanic_test ['set'] = 'Testing'\n",
    "\n",
    "# concatenating both datasets together for mv and feature engineering\n",
    "titanic_df = titanic_train.append(other = titanic_test)\n",
    "\n",
    "# resetting index to avoid problems later in the code\n",
    "titanic_df.reset_index(drop = False,\n",
    "                       inplace = True)\n",
    "# changing name for convinienct\n",
    "df = titanic_df"
   ]
  },
  {
   "cell_type": "markdown",
   "id": "f0c838b2",
   "metadata": {},
   "source": [
    "<div style='font-family:\"Times New Roman\"; line-height: 2;'>\n",
    "    <h2>Data Cleansing and Engineering</h2>\n",
    "</div>"
   ]
  },
  {
   "cell_type": "markdown",
   "id": "6fa85353",
   "metadata": {},
   "source": [
    "<div style='font-family:\"Times New Roman\"; line-height: 2;'>\n",
    "    <h3>Target Variable Converting - Transported</h3>\n",
    "</div>"
   ]
  },
  {
   "cell_type": "code",
   "execution_count": 8,
   "id": "e6c2301d",
   "metadata": {
    "deletable": false,
    "editable": false
   },
   "outputs": [],
   "source": [
    "# Convert Target variable to binary scale.\n",
    "for index, row in df.iterrows():\n",
    "    # if True\n",
    "    if row['Transported']:\n",
    "        # New feature goes 1\n",
    "        df.loc[index,'Transported_INT'] = 1\n",
    "    else:\n",
    "        df.loc[index,'Transported_INT'] = 0"
   ]
  },
  {
   "cell_type": "markdown",
   "id": "2229f9b1",
   "metadata": {},
   "source": [
    "<div style='font-family:\"Times New Roman\"; line-height: 2;'>\n",
    "    <h3>Expenses related variables </h3>\n",
    "</div>"
   ]
  },
  {
   "cell_type": "markdown",
   "id": "117ae274",
   "metadata": {},
   "source": [
    "<div style='font-family:\"Times New Roman\"; line-height: 2;'>\n",
    "    <h4>Cleansing</h4>\n",
    "    <p>For all expenses-related variables, we assumed that all missing values are zero because we did not find any proof of other information about it.</p>\n",
    "</div>"
   ]
  },
  {
   "cell_type": "code",
   "execution_count": 9,
   "id": "bcc65456",
   "metadata": {
    "deletable": false,
    "editable": false
   },
   "outputs": [],
   "source": [
    "# All Spending Money null values are assumed by Zero\n",
    "# This study cannot find any proove of other options\n",
    "df['RoomService_EDT'] = df['RoomService'].fillna(0)\n",
    "df['FoodCourt_EDT'] = df['FoodCourt'].fillna(0)\n",
    "df['ShoppingMall_EDT'] = df['ShoppingMall'].fillna(0)\n",
    "df['Spa_EDT'] = df['Spa'].fillna(0)\n",
    "df['VRDeck_EDT'] = df['VRDeck'].fillna(0)"
   ]
  },
  {
   "cell_type": "markdown",
   "id": "84b96512",
   "metadata": {},
   "source": [
    "<div style='font-family:\"Times New Roman\"; line-height: 2;'>\n",
    "    <h4>Engineered Features</h4>\n",
    "</div>"
   ]
  },
  {
   "cell_type": "markdown",
   "id": "0f5d3a8f",
   "metadata": {},
   "source": [
    "<div style='font-family:\"Times New Roman\"; line-height: 2;'>\n",
    "    <p><b> - TOTAL_SPEND</b>: Sum of all spending expenses.\n",
    "        <br/><b> - SPEND</b>: Sum of RoomService, Spa, and VRDeck spending expenses.</p>\n",
    "</div>"
   ]
  },
  {
   "cell_type": "code",
   "execution_count": 10,
   "id": "29648290",
   "metadata": {
    "deletable": false,
    "editable": false
   },
   "outputs": [],
   "source": [
    "# TOTAL_SPENT MEANS sum of all spending money\n",
    "df['TOTAL_SPEND'] = df['RoomService_EDT'] + df['FoodCourt_EDT'] + df['ShoppingMall_EDT'] + df['Spa_EDT'] + df['VRDeck_EDT']\n",
    "\n",
    "# TOTAL_SPENT MEANS sum of all spending money\n",
    "df['SPEND'] = df['RoomService_EDT'] + df['Spa_EDT'] + df['VRDeck_EDT']"
   ]
  },
  {
   "cell_type": "markdown",
   "id": "6bd8ecfa",
   "metadata": {},
   "source": [
    "<div style='font-family:\"Times New Roman\"; line-height: 2;'>\n",
    "    <h5>Analysis output 2.</h5>\n",
    "    <p style='text-align: justify;'>&emsp;&emsp;This study found that passengers who did not spend on room service got transported in a higher proportion, 63.33%, than the other group at 27.15%. This result was similar for spa service (63.92% transported) and VRDeck service (63.80% transported). Based on this result, this study defined a new variable as SPEND which aggregated room service, spa service, and VRDeck service spending. &#9001;Chart 1.&#9002; represents that the distribution of room service has differences between transported and not transported, with clearer results in the newly engineered feature, SPEND. We assumed that some passengers who spent more time with amenities were more active than does who did not spend, and those passengers could avoid disasters.</p>\n",
    "</div>"
   ]
  },
  {
   "cell_type": "code",
   "execution_count": 11,
   "id": "def36327",
   "metadata": {
    "cell_style": "split",
    "deletable": false,
    "editable": false
   },
   "outputs": [
    {
     "name": "stdout",
     "output_type": "stream",
     "text": [
      "\n",
      "Analysis Output 2-1.  \n",
      "------------------------------------------\n",
      "\n",
      "<Chart 1-1. Histogram of RoomService_EDT with Transported>\n",
      "\n"
     ]
    },
    {
     "data": {
      "image/png": "[encoded data removed]",
      "text/plain": [
       "<Figure size 640x480 with 1 Axes>"
      ]
     },
     "metadata": {},
     "output_type": "display_data"
    }
   ],
   "source": [
    "print(f\"\"\"\n",
    "Analysis Output 2-1.  \n",
    "------------------------------------------\n",
    "\n",
    "<Chart 1-1. Histogram of RoomService_EDT with Transported>\n",
    "\"\"\")\n",
    "sns.histplot(x=np.log(df[df['set']=='Training']['RoomService_EDT'] + 0.1), hue='Transported_INT', data=df[df['set']=='Training'], bins=20, kde=True)\n",
    "plt.show()"
   ]
  },
  {
   "cell_type": "code",
   "execution_count": 12,
   "id": "77964224",
   "metadata": {
    "cell_style": "split",
    "deletable": false,
    "editable": false
   },
   "outputs": [
    {
     "name": "stdout",
     "output_type": "stream",
     "text": [
      "\n",
      "Analysis Output 2-2.  \n",
      "------------------------------------------\n",
      "\n",
      "<Chart 1-2. Histogram of Spa_EDT with Transported>\n",
      "\n"
     ]
    },
    {
     "data": {
      "image/png": "[encoded data removed]",
      "text/plain": [
       "<Figure size 640x480 with 1 Axes>"
      ]
     },
     "metadata": {},
     "output_type": "display_data"
    }
   ],
   "source": [
    "print(f\"\"\"\n",
    "Analysis Output 2-2.  \n",
    "------------------------------------------\n",
    "\n",
    "<Chart 1-2. Histogram of Spa_EDT with Transported>\n",
    "\"\"\")\n",
    "sns.histplot(x=np.log(df[df['set']=='Training']['Spa_EDT'] + 0.1), hue='Transported_INT', data=df[df['set']=='Training'], bins=20, kde=True)\n",
    "plt.show()"
   ]
  },
  {
   "cell_type": "markdown",
   "id": "7b81af98",
   "metadata": {},
   "source": []
  },
  {
   "cell_type": "code",
   "execution_count": 13,
   "id": "2b18c195",
   "metadata": {
    "cell_style": "split",
    "deletable": false,
    "editable": false
   },
   "outputs": [
    {
     "name": "stdout",
     "output_type": "stream",
     "text": [
      "\n",
      "Analysis Output 2-3.  \n",
      "------------------------------------------\n",
      "\n",
      "<Chart 1-3. Histogram of VRDeck_EDT with Transported>\n",
      "\n"
     ]
    },
    {
     "data": {
      "image/png": "[encoded data removed]",
      "text/plain": [
       "<Figure size 640x480 with 1 Axes>"
      ]
     },
     "metadata": {},
     "output_type": "display_data"
    }
   ],
   "source": [
    "print(f\"\"\"\n",
    "Analysis Output 2-3.  \n",
    "------------------------------------------\n",
    "\n",
    "<Chart 1-3. Histogram of VRDeck_EDT with Transported>\n",
    "\"\"\")\n",
    "sns.histplot(x=np.log(df[df['set']=='Training']['VRDeck_EDT'] + 0.1), hue='Transported_INT', data=df[df['set']=='Training'], bins=20, kde=True)\n",
    "plt.show()"
   ]
  },
  {
   "cell_type": "code",
   "execution_count": 14,
   "id": "3512cb0b",
   "metadata": {
    "cell_style": "split",
    "deletable": false,
    "editable": false
   },
   "outputs": [
    {
     "name": "stdout",
     "output_type": "stream",
     "text": [
      "\n",
      "Analysis Output 2-4.  \n",
      "------------------------------------------\n",
      "\n",
      "<Chart 1-4. Histogram of SPEND with Transported>\n",
      "\n"
     ]
    },
    {
     "data": {
      "image/png": "[encoded data removed]",
      "text/plain": [
       "<Figure size 640x480 with 1 Axes>"
      ]
     },
     "metadata": {},
     "output_type": "display_data"
    }
   ],
   "source": [
    "print(f\"\"\"\n",
    "Analysis Output 2-4.  \n",
    "------------------------------------------\n",
    "\n",
    "<Chart 1-4. Histogram of SPEND with Transported>\n",
    "\"\"\")\n",
    "sns.histplot(x=np.log(df[df['set']=='Training']['SPEND'] + 0.1), hue='Transported_INT', data=df[df['set']=='Training'], bins=20, kde=True)\n",
    "plt.show()"
   ]
  },
  {
   "cell_type": "markdown",
   "id": "3d6f0149",
   "metadata": {},
   "source": [
    "<div style='font-family:\"Times New Roman\"; line-height: 2;'>\n",
    "    <p><b> - Zero_RoomService</b>: Passengers who did not spend for room service.\n",
    "        <br/><b> - RoomService_low</b>: Passengers who spent for room service less and equal to 80.\n",
    "        <br/><b> - RoomService_med</b>: Passengers who spent for room service less and equal to 650.\n",
    "        <br/><b> - RoomService_high</b>: Passengers who spent for room service greater than 650.\n",
    "        <br/><b> - Zero_spa</b>: Passengers who did not spend for spa service.\n",
    "        <br/><b> - spa_low</b>: Passengers who spent for spa service less and equal to 60.\n",
    "        <br/><b> - spa_med</b>: Passengers who spent for spa service less and equal to 600.\n",
    "        <br/><b> - spa_high</b>: Passengers who spent for spa service greater than 600.\n",
    "        <br/><b> - Zero_VRDeck</b>: Passengers who did not spend for VRDeck service.\n",
    "        <br/><b> - VRDeck_low</b>: Passengers who spent for VRDeck service less and equal to 65.\n",
    "        <br/><b> - VRDeck_med</b>: Passengers who spent for VRDeck service less and equal to 620.\n",
    "        <br/><b> - VRDeck_high</b>: Passengers who spent for VRDeck service greater than 620.\n",
    "    </p>\n",
    "</div>"
   ]
  },
  {
   "cell_type": "code",
   "execution_count": 15,
   "id": "3c36f746",
   "metadata": {
    "deletable": false,
    "editable": false
   },
   "outputs": [],
   "source": [
    "# Building Expenses Related Dummy variables with assumed interval\n",
    "# Declare New features\n",
    "df['Zero_RoomService']          = 0\n",
    "df['RoomService_low']           = 0\n",
    "df['RoomService_med']           = 0\n",
    "df['RoomService_high']          = 0\n",
    "df['Zero_spa']                  = 0\n",
    "df['spa_low']                   = 0\n",
    "df['spa_med']                   = 0\n",
    "df['spa_high']                  = 0\n",
    "df['Zero_VRDeck']               = 0\n",
    "df['VRDeck_low']                = 0\n",
    "df['VRDeck_med']                = 0\n",
    "df['VRDeck_high']               = 0\n",
    "\n",
    "# iterating over each original column to\n",
    "# change values in the new feature columns\n",
    "for index, value in df.iterrows(): \n",
    "        \n",
    "    # RoomService Zero\n",
    "    if df.loc[index, 'RoomService'] == 0:\n",
    "        df.loc[index, 'Zero_RoomService'] = 1\n",
    "        \n",
    "    # RoomService Lower \n",
    "    if df.loc[index, 'RoomService'] <= 80 and df.loc[index, 'RoomService'] > 0:\n",
    "        df.loc[index, 'RoomService_low'] = 1\n",
    "        \n",
    "    # RoomService Med\n",
    "    if df.loc[index, 'RoomService'] <= 650 and df.loc[index, 'RoomService'] > 80:\n",
    "        df.loc[index, 'RoomService_med'] = 1\n",
    "        \n",
    "    # RoomService High\n",
    "    if df.loc[index, 'RoomService'] > 650:\n",
    "        df.loc[index, 'RoomService_high'] = 1\n",
    "        \n",
    "    # Spa Zero\n",
    "    if df.loc[index, 'Spa'] == 0:\n",
    "        df.loc[index, 'Zero_spa'] = 1\n",
    "        \n",
    "        \n",
    "    # Spa Lower\n",
    "    if df.loc[index, 'Spa'] <= 60 and df.loc[index, 'Spa'] > 0:\n",
    "        df.loc[index, 'spa_low'] = 1\n",
    "        \n",
    "        \n",
    "    # Spa Med\n",
    "    if df.loc[index, 'Spa'] <= 600 and df.loc[index, 'Spa'] > 60:\n",
    "        df.loc[index, 'spa_med'] = 1\n",
    "        \n",
    "    # Spa High\n",
    "    if df.loc[index, 'Spa'] > 600:\n",
    "        df.loc[index, 'spa_high'] = 1\n",
    "        \n",
    "    # VRDeck Zero\n",
    "    if df.loc[index, 'VRDeck'] == 0:\n",
    "        df.loc[index, 'Zero_VRDeck'] = 1\n",
    "        \n",
    "    # VRDeck Lower\n",
    "    if df.loc[index, 'VRDeck'] <= 65 and df.loc[index, 'VRDeck'] > 0:\n",
    "        df.loc[index, 'VRDeck_low'] = 1\n",
    "        \n",
    "    # VRDeck med\n",
    "    if df.loc[index, 'VRDeck'] <= 620 and df.loc[index, 'VRDeck'] > 65:\n",
    "        df.loc[index, 'VRDeck_med'] = 1\n",
    "        \n",
    "    # VRDeck High\n",
    "    if df.loc[index, 'VRDeck'] > 620:\n",
    "        df.loc[index, 'VRDeck_high'] = 1"
   ]
  },
  {
   "cell_type": "markdown",
   "id": "915cf212",
   "metadata": {},
   "source": [
    "<div style='font-family:\"Times New Roman\"; line-height: 2;'>\n",
    "    <h3>Age Related Features</h3>\n",
    "</div>"
   ]
  },
  {
   "cell_type": "markdown",
   "id": "62ea34ab",
   "metadata": {},
   "source": [
    "<div style='font-family:\"Times New Roman\"; line-height: 2;'>\n",
    "    <h4>Cleansing</h4>\n",
    "    <p>&emsp;&emsp;This study found that all passengers who were less and equal to 12 years old did not purchase VIP service. This means that we can assume that if passengers who missed their age information were less and equal to 12 years old, those passengers would not take VIP service. From this result, we filled in the missing age values as the median age of each group; one is less and equal to 12 years old (Median is 4), and another is greater than the 12 years old group (Median is 28).  </p>\n",
    "</div>"
   ]
  },
  {
   "cell_type": "code",
   "execution_count": 16,
   "id": "1018437e",
   "metadata": {
    "cell_style": "split",
    "deletable": false,
    "editable": false
   },
   "outputs": [
    {
     "data": {
      "image/png": "[encoded data removed]",
      "text/plain": [
       "<Figure size 640x480 with 1 Axes>"
      ]
     },
     "metadata": {},
     "output_type": "display_data"
    }
   ],
   "source": [
    "# Additional Chart\n",
    "sns.scatterplot(x='Age', y='TOTAL_SPEND', hue='Transported', data=df)\n",
    "plt.plot([12, 12], [0, 35000])\n",
    "plt.show()"
   ]
  },
  {
   "cell_type": "code",
   "execution_count": 17,
   "id": "4bdafa2b",
   "metadata": {
    "cell_style": "split",
    "deletable": false,
    "editable": false,
    "scrolled": true
   },
   "outputs": [
    {
     "data": {
      "text/plain": [
       "TOTAL_SPEND\n",
       "0.0            1157\n",
       "dtype: int64"
      ]
     },
     "execution_count": 17,
     "metadata": {},
     "output_type": "execute_result"
    }
   ],
   "source": [
    "# Less and equal to 12 ages do not spend any money\n",
    "df[df['Age'] <= 12][['TOTAL_SPEND']].fillna('MISSING').value_counts().sort_index()"
   ]
  },
  {
   "cell_type": "code",
   "execution_count": 18,
   "id": "e26147d7",
   "metadata": {
    "cell_style": "split",
    "deletable": false,
    "editable": false
   },
   "outputs": [
    {
     "data": {
      "text/plain": [
       "4.0"
      ]
     },
     "execution_count": 18,
     "metadata": {},
     "output_type": "execute_result"
    }
   ],
   "source": [
    "# Median of under 12 ages\n",
    "df[df['Age'] <= 12]['Age'].median()"
   ]
  },
  {
   "cell_type": "code",
   "execution_count": 19,
   "id": "b2ea796e",
   "metadata": {
    "cell_style": "split",
    "deletable": false,
    "editable": false
   },
   "outputs": [
    {
     "data": {
      "text/plain": [
       "28.0"
      ]
     },
     "execution_count": 19,
     "metadata": {},
     "output_type": "execute_result"
    }
   ],
   "source": [
    "# Median of over 12 ages\n",
    "df[df['Age'] > 12]['Age'].median()"
   ]
  },
  {
   "cell_type": "code",
   "execution_count": 20,
   "id": "3b7b6945",
   "metadata": {
    "deletable": false,
    "editable": false
   },
   "outputs": [],
   "source": [
    "# Build cleansed Age as Age_EDT\n",
    "for index, row in df.iterrows():\n",
    "    # Check if Age is null\n",
    "    if pd.isnull(row['Age']):\n",
    "        # ifnull true Check total_spend == 0\n",
    "        if row['TOTAL_SPEND'] == 0:\n",
    "            # If it does not spend any money, fill with median of under 12 ages (4)\n",
    "            df.loc[index, 'Age_EDT'] = df[df['Age'] <= 12]['Age'].median()\n",
    "            # If it spends money, fill with median of over 12 ages (28)\n",
    "        else:\n",
    "            df.loc[index, 'Age_EDT'] = df[df['Age'] > 12]['Age'].median()\n",
    "    # Not null goes to itself\n",
    "    else:\n",
    "        df.loc[index, 'Age_EDT'] = row['Age']"
   ]
  },
  {
   "cell_type": "markdown",
   "id": "1978d3e6",
   "metadata": {},
   "source": [
    "<div style='font-family:\"Times New Roman\"; line-height: 2;'>\n",
    "    <h4>Engineered Features</h4>\n",
    "</div>"
   ]
  },
  {
   "cell_type": "markdown",
   "id": "2ef00e09",
   "metadata": {},
   "source": [
    "<div style='font-family:\"Times New Roman\"; line-height: 2;'>\n",
    "    <h5>Analysis output 3.</h5>\n",
    "    <p style='text-align: justify;'>&emsp;&emsp;According to &#9001;Chart 2.&#9002;, According to 〈Chart 2.〉, this study figured out that passengers below 18years were significantly transported compared to those equal to or greater than 18 years. Furthermore, infants, less than 1 year old (zero years old), and toddlers (childrens between one and four years old) dominated the transported group (below 18years old). From these insights, this study defined three dummy variables: one is less than 18 years old as KIDS, the second is between one and four years old as TODDLER, and the other is equal to zero years old as INFANT. .  </p>\n",
    "</div>"
   ]
  },
  {
   "cell_type": "code",
   "execution_count": 21,
   "id": "a970674f",
   "metadata": {
    "deletable": false,
    "editable": false
   },
   "outputs": [
    {
     "name": "stdout",
     "output_type": "stream",
     "text": [
      "\n",
      "Analysis Output 3.  \n",
      "----------------------------------------------------\n",
      "\n",
      "<Chart 2. Histogram of Age with Transported>\n",
      "\n"
     ]
    },
    {
     "data": {
      "image/png": "[encoded data removed]",
      "text/plain": [
       "<Figure size 640x480 with 1 Axes>"
      ]
     },
     "metadata": {},
     "output_type": "display_data"
    }
   ],
   "source": [
    "print(f\"\"\"\n",
    "Analysis Output 3.  \n",
    "----------------------------------------------------\n",
    "\n",
    "<Chart 2. Histogram of Age with Transported>\n",
    "\"\"\")\n",
    "# Less than 18 years has more proportion of Transported\n",
    "sns.histplot(x='Age_EDT', hue='Transported_INT', data=df[df['set'] == 'Training'], kde=True)\n",
    "plt.plot([17, 17], [0,350])\n",
    "plt.show()"
   ]
  },
  {
   "cell_type": "markdown",
   "id": "cdfe653e",
   "metadata": {},
   "source": [
    "<div style='font-family:\"Times New Roman\"; line-height: 2;'>\n",
    "    <p><b> - KIDS</b>: Passengers who are fewer and equal to 17 years old.</p>\n",
    "</div>"
   ]
  },
  {
   "cell_type": "code",
   "execution_count": 22,
   "id": "6bdda3c2",
   "metadata": {
    "deletable": false,
    "editable": false
   },
   "outputs": [],
   "source": [
    "# Kids Dummy\n",
    "for index, row in df.iterrows():\n",
    "    if row['Age_EDT'] <= 17:\n",
    "        df.loc[index, 'KIDS'] = 1\n",
    "    else: \n",
    "        df.loc[index, 'KIDS'] = 0"
   ]
  },
  {
   "cell_type": "markdown",
   "id": "19f54d3b",
   "metadata": {},
   "source": [
    "<div style='font-family:\"Times New Roman\"; line-height: 2;'>\n",
    "    <p><b> - TODDLER</b>: Passengers who are between 1 and 4 years old.</p>\n",
    "</div>"
   ]
  },
  {
   "cell_type": "code",
   "execution_count": 23,
   "id": "75dccdd6",
   "metadata": {
    "deletable": false,
    "editable": false
   },
   "outputs": [],
   "source": [
    "# Building Toddler Dummy\n",
    "for index, row in df.iterrows():\n",
    "    if 0 < row['Age_EDT'] < 5:\n",
    "        df.loc[index, 'TODDLER'] = 1\n",
    "    else:\n",
    "        df.loc[index, 'TODDLER'] = 0"
   ]
  },
  {
   "cell_type": "markdown",
   "id": "98a4e471",
   "metadata": {},
   "source": [
    "<div style='font-family:\"Times New Roman\"; line-height: 2;'>\n",
    "    <p><b> - INFANT</b>: Passengers who are zero years old</p>\n",
    "</div>"
   ]
  },
  {
   "cell_type": "code",
   "execution_count": 24,
   "id": "ee040490",
   "metadata": {
    "deletable": false,
    "editable": false
   },
   "outputs": [],
   "source": [
    "# Building Infant Dummy\n",
    "for index, row in df.iterrows():\n",
    "    if row['Age_EDT'] == 0:\n",
    "        df.loc[index, 'INFANT'] = 1\n",
    "    else:\n",
    "        df.loc[index, 'INFANT'] = 0"
   ]
  },
  {
   "cell_type": "markdown",
   "id": "7fef5a99",
   "metadata": {},
   "source": [
    "<div style='font-family:\"Times New Roman\"; line-height: 2;'>\n",
    "    <h3>PassengerId related feature</h3>\n",
    "</div>"
   ]
  },
  {
   "cell_type": "markdown",
   "id": "41ccd826",
   "metadata": {},
   "source": [
    "<div style='font-family:\"Times New Roman\"; line-height: 2;'>\n",
    "    <h4>Split passenger ID front part and rear part</h4>\n",
    "</div>"
   ]
  },
  {
   "cell_type": "code",
   "execution_count": 25,
   "id": "e60143d7",
   "metadata": {
    "deletable": false,
    "editable": false
   },
   "outputs": [],
   "source": [
    "# Declare new features\n",
    "df['PassengerId_A'] = ''\n",
    "df['PassengerId_B'] = 0\n",
    "\n",
    "# Check with loop\n",
    "for index, row in df.iterrows():\n",
    "    # PassengerID first 4 digits\n",
    "    df.loc[index, 'PassengerId_A'] = str.split(df.loc[index, 'PassengerId'], '_')[0] # Split with under score\n",
    "    # PassengerID Last 2 digits\n",
    "    df.loc[index, 'PassengerId_B'] = int(str.split(df.loc[index, 'PassengerId'], '_')[1])"
   ]
  },
  {
   "cell_type": "markdown",
   "id": "0089a56c",
   "metadata": {},
   "source": [
    "<div style='font-family:\"Times New Roman\"; line-height: 2;'>\n",
    "    <h4>GROUP_YN: Group Passenger or not</h4>\n",
    "</div>"
   ]
  },
  {
   "cell_type": "markdown",
   "id": "0f5af597",
   "metadata": {},
   "source": [
    "<div style='font-family:\"Times New Roman\"; line-height: 2;'>\n",
    "    <p><b> - GROUP_YN</b>: Passengers being with other group passengers.</p>\n",
    "</div>"
   ]
  },
  {
   "cell_type": "code",
   "execution_count": 26,
   "id": "7a917679",
   "metadata": {
    "deletable": false,
    "editable": false
   },
   "outputs": [],
   "source": [
    "# Checking passengers who has group\n",
    "df['GROUP_YN'] = 0\n",
    "# loop\n",
    "for index, row in df.iterrows():\n",
    "    # Check the last index\n",
    "    if index < len(df) - 1:\n",
    "        # Declare next index\n",
    "        j = index + 1\n",
    "        # Compare with this value of Group ID and previous Group ID\n",
    "        # if it is same, then has group\n",
    "        if df.loc[index, 'PassengerId_A'] == df.loc[j, 'PassengerId_A']:\n",
    "            df.loc[index, 'GROUP_YN'] = 1\n",
    "        # If not\n",
    "        else:\n",
    "            # Check index is after first index\n",
    "            if index > 1:\n",
    "                # if this index passenger ID_B is greater than 1\n",
    "                if df.loc[index, 'PassengerId_B'] > 1:\n",
    "                    # this index is last group member\n",
    "                    df.loc[index, 'GROUP_YN'] = 1   \n",
    "    # Last index \n",
    "    else:\n",
    "        # Compare group id with previous index\n",
    "        if df.loc[index, 'PassengerId_A'] == df.loc[index-1, 'PassengerId_A']:\n",
    "            df.loc[index, 'GROUP_YN'] = 1"
   ]
  },
  {
   "cell_type": "markdown",
   "id": "2ee8727b",
   "metadata": {},
   "source": [
    "<div style='font-family:\"Times New Roman\"; line-height: 2;'>\n",
    "    <h4>Cleansing HomePlanet with Passenger ID</h4>\n",
    "    <p>&emsp;&emsp;This study searched that some passengers with missing home planet information were together as group passengers who have home planet informations. Thus we assumed that if passengers who did not have information about their home planet are in a group, those passengers' home planet would be the same.</p>\n",
    "</div>"
   ]
  },
  {
   "cell_type": "code",
   "execution_count": 27,
   "id": "7b35453d",
   "metadata": {
    "deletable": false,
    "editable": false
   },
   "outputs": [],
   "source": [
    "# Fill Null for Same group member's HomePlanet\n",
    "for index, row in df.iterrows():\n",
    "    # if it is group member\n",
    "    if row['GROUP_YN'] == 1:\n",
    "        # Check if homeplanet is null\n",
    "        if row['HomePlanet'] is np.nan:\n",
    "            # Declare group id\n",
    "            pid = row['PassengerId_A']\n",
    "            # Check all group member's homeplanet\n",
    "            for value in df[df['PassengerId_A'] == pid]['HomePlanet']:\n",
    "                # If other group member's homeplanet is not null\n",
    "                if value is not np.nan:\n",
    "                    # Store homeplanet for this index\n",
    "                    df.loc[index, 'HomePlanet_EDT'] = value\n",
    "                    break\n",
    "        # if not null, keep values\n",
    "        else:\n",
    "            df.loc[index, 'HomePlanet_EDT'] = row['HomePlanet']\n",
    "    # if not group\n",
    "    else:\n",
    "        # Check homeplanet is null\n",
    "        if row['HomePlanet'] is np.nan:\n",
    "            # Fill with mode\n",
    "            df.loc[index, 'HomePlanet_EDT'] = df['HomePlanet'].mode()[0]\n",
    "        else:\n",
    "            df.loc[index, 'HomePlanet_EDT'] = row['HomePlanet']"
   ]
  },
  {
   "cell_type": "code",
   "execution_count": 28,
   "id": "5541ee43",
   "metadata": {
    "deletable": false,
    "editable": false
   },
   "outputs": [],
   "source": [
    "# If Still has missing variable, fill mode\n",
    "df['HomePlanet_EDT'] = df['HomePlanet'].fillna(df['HomePlanet'].mode()[0])"
   ]
  },
  {
   "cell_type": "code",
   "execution_count": 29,
   "id": "889bbb5d",
   "metadata": {
    "cell_style": "split",
    "deletable": false,
    "editable": false
   },
   "outputs": [
    {
     "data": {
      "text/plain": [
       "Earth     7153\n",
       "Europa    3133\n",
       "Mars      2684\n",
       "Name: HomePlanet_EDT, dtype: int64"
      ]
     },
     "execution_count": 29,
     "metadata": {},
     "output_type": "execute_result"
    }
   ],
   "source": [
    "# Compare results\n",
    "df['HomePlanet_EDT'].fillna('MISSING').value_counts()"
   ]
  },
  {
   "cell_type": "code",
   "execution_count": 30,
   "id": "714d0b5f",
   "metadata": {
    "cell_style": "split",
    "deletable": false,
    "editable": false
   },
   "outputs": [
    {
     "data": {
      "text/plain": [
       "Earth      6865\n",
       "Europa     3133\n",
       "Mars       2684\n",
       "MISSING     288\n",
       "Name: HomePlanet, dtype: int64"
      ]
     },
     "execution_count": 30,
     "metadata": {},
     "output_type": "execute_result"
    }
   ],
   "source": [
    "# Compare results\n",
    "df['HomePlanet'].fillna('MISSING').value_counts()"
   ]
  },
  {
   "cell_type": "markdown",
   "id": "ef44e700",
   "metadata": {},
   "source": [
    "<div style='font-family:\"Times New Roman\"; line-height: 2;'>\n",
    "    <h3>VIP Related Features</h3>\n",
    "</div>"
   ]
  },
  {
   "cell_type": "markdown",
   "id": "40e8a50b",
   "metadata": {},
   "source": [
    "<div style='font-family:\"Times New Roman\"; line-height: 2;'>\n",
    "    <h4>Cleansing VIP with Age¶</h4>\n",
    "    <p>&emsp;&emsp;This study searched that passengers less than 18 years old did not purchase VIP service. From this approach, we assumed that if passengers who did not have information about VIP were less than 18 years old, those passengers would not purchase VIP service. In addition, passengers from the Earth were not purchase VIP service.</p>\n",
    "    <p>&emsp;&emsp;Moreover, we also found that most passengers who did not spend money were not purchasing VIP service. And None; VIP passengers spent an average of 1,341. From these approaches, we filled zero in the missing values of the VIP feature who did not spend money or spent money less than 1,341.</p>\n",
    "</div>"
   ]
  },
  {
   "cell_type": "code",
   "execution_count": 31,
   "id": "127b13d4",
   "metadata": {
    "cell_style": "split",
    "deletable": false,
    "editable": false
   },
   "outputs": [
    {
     "data": {
      "image/png": "[encoded data removed]",
      "text/plain": [
       "<Figure size 640x480 with 1 Axes>"
      ]
     },
     "metadata": {},
     "output_type": "display_data"
    }
   ],
   "source": [
    "# Less than 18 years old Passengers were not purchase VIP service\n",
    "sns.scatterplot(x='Age', y='VIP', hue='Transported', data=df)\n",
    "plt.plot([18, 18], [0, 1])\n",
    "plt.show()"
   ]
  },
  {
   "cell_type": "code",
   "execution_count": 32,
   "id": "3ed9b1f1",
   "metadata": {
    "cell_style": "split",
    "deletable": false,
    "editable": false
   },
   "outputs": [
    {
     "data": {
      "text/plain": [
       "<AxesSubplot:ylabel='mean'>"
      ]
     },
     "execution_count": 32,
     "metadata": {},
     "output_type": "execute_result"
    },
    {
     "data": {
      "image/png": "[encoded data removed]",
      "text/plain": [
       "<Figure size 640x480 with 1 Axes>"
      ]
     },
     "metadata": {},
     "output_type": "display_data"
    }
   ],
   "source": [
    "# Passenger from Earth did not purchase VIP Service\n",
    "df.groupby('HomePlanet')['VIP'].agg(['mean']).plot(kind='pie', x='HomePlanet', y='mean')"
   ]
  },
  {
   "cell_type": "code",
   "execution_count": 33,
   "id": "e1b745a5",
   "metadata": {
    "cell_style": "split",
    "deletable": false,
    "editable": false
   },
   "outputs": [
    {
     "data": {
      "text/plain": [
       "VIP    \n",
       "False      2210\n",
       "MISSING      54\n",
       "dtype: int64"
      ]
     },
     "execution_count": 33,
     "metadata": {},
     "output_type": "execute_result"
    }
   ],
   "source": [
    "# Under the 18 years old passengers, those passengers are not VIP.\n",
    "df[df['Age'] <= 17][['VIP']].fillna('MISSING').value_counts().sort_index()"
   ]
  },
  {
   "cell_type": "code",
   "execution_count": 34,
   "id": "f4694e84",
   "metadata": {
    "cell_style": "split",
    "deletable": false,
    "editable": false
   },
   "outputs": [
    {
     "data": {
      "text/plain": [
       "VIP    \n",
       "False      5592\n",
       "True         39\n",
       "MISSING     136\n",
       "dtype: int64"
      ]
     },
     "execution_count": 34,
     "metadata": {},
     "output_type": "execute_result"
    }
   ],
   "source": [
    "# SPEND equal to 0 passengers are mostly not VIP.\n",
    "df[df['SPEND'] == 0][['VIP']].fillna('MISSING').value_counts().sort_index()"
   ]
  },
  {
   "cell_type": "code",
   "execution_count": 35,
   "id": "bfb60440",
   "metadata": {
    "deletable": false,
    "editable": false
   },
   "outputs": [],
   "source": [
    "# Figure VIP out\n",
    "for index, row in df.iterrows():\n",
    "    # Check Homplanet if it is Earth\n",
    "    if row['HomePlanet_EDT'] == 'Earth':\n",
    "        # From Earth people are not VIP\n",
    "        df.loc[index, 'VIP_EDT'] = 0\n",
    "    # Not Earth\n",
    "    else:\n",
    "        # Check Null VIP\n",
    "        if row['VIP'] is np.nan:\n",
    "            # SPEND 0 means Not VIP\n",
    "            if row['SPEND'] == 0:\n",
    "                df.loc[index, 'VIP_EDT'] = 0\n",
    "            # Less and equal to 17 years old should not be VIP\n",
    "            elif row['Age_EDT'] <= 17:\n",
    "                df.loc[index, 'VIP_EDT'] = 0\n",
    "            # Less than 1341 means NOT VIP (MEAN OF Not VIP)\n",
    "            elif row['SPEND'] < 1341:\n",
    "                df.loc[index, 'VIP_EDT'] = 0\n",
    "            # Grater and Equal to 1341 means VIP\n",
    "            else:\n",
    "                df.loc[index, 'VIP_EDT'] = 1\n",
    "        # not null cases\n",
    "        else:\n",
    "            if row['VIP']:\n",
    "                df.loc[index, 'VIP_EDT'] = 1\n",
    "            else:\n",
    "                df.loc[index, 'VIP_EDT'] = 0\n",
    "\n",
    "# Convert data type\n",
    "df['VIP_EDT'] = pd.to_numeric(df['VIP_EDT'])"
   ]
  },
  {
   "cell_type": "code",
   "execution_count": 36,
   "id": "516eb3cb",
   "metadata": {
    "cell_style": "split",
    "deletable": false,
    "editable": false
   },
   "outputs": [
    {
     "data": {
      "text/html": [
       "<div>\n",
       "<style scoped>\n",
       "    .dataframe tbody tr th:only-of-type {\n",
       "        vertical-align: middle;\n",
       "    }\n",
       "\n",
       "    .dataframe tbody tr th {\n",
       "        vertical-align: top;\n",
       "    }\n",
       "\n",
       "    .dataframe thead th {\n",
       "        text-align: right;\n",
       "    }\n",
       "</style>\n",
       "<table border=\"1\" class=\"dataframe\">\n",
       "  <thead>\n",
       "    <tr style=\"text-align: right;\">\n",
       "      <th>VIP</th>\n",
       "      <th>False</th>\n",
       "      <th>True</th>\n",
       "      <th>MISSING</th>\n",
       "      <th>All</th>\n",
       "    </tr>\n",
       "    <tr>\n",
       "      <th>HomePlanet</th>\n",
       "      <th></th>\n",
       "      <th></th>\n",
       "      <th></th>\n",
       "      <th></th>\n",
       "    </tr>\n",
       "  </thead>\n",
       "  <tbody>\n",
       "    <tr>\n",
       "      <th>Earth</th>\n",
       "      <td>6706</td>\n",
       "      <td>0</td>\n",
       "      <td>159</td>\n",
       "      <td>6865</td>\n",
       "    </tr>\n",
       "    <tr>\n",
       "      <th>Europa</th>\n",
       "      <td>2883</td>\n",
       "      <td>177</td>\n",
       "      <td>73</td>\n",
       "      <td>3133</td>\n",
       "    </tr>\n",
       "    <tr>\n",
       "      <th>MISSING</th>\n",
       "      <td>279</td>\n",
       "      <td>6</td>\n",
       "      <td>3</td>\n",
       "      <td>288</td>\n",
       "    </tr>\n",
       "    <tr>\n",
       "      <th>Mars</th>\n",
       "      <td>2533</td>\n",
       "      <td>90</td>\n",
       "      <td>61</td>\n",
       "      <td>2684</td>\n",
       "    </tr>\n",
       "    <tr>\n",
       "      <th>All</th>\n",
       "      <td>12401</td>\n",
       "      <td>273</td>\n",
       "      <td>296</td>\n",
       "      <td>12970</td>\n",
       "    </tr>\n",
       "  </tbody>\n",
       "</table>\n",
       "</div>"
      ],
      "text/plain": [
       "VIP         False  True  MISSING    All\n",
       "HomePlanet                             \n",
       "Earth        6706     0      159   6865\n",
       "Europa       2883   177       73   3133\n",
       "MISSING       279     6        3    288\n",
       "Mars         2533    90       61   2684\n",
       "All         12401   273      296  12970"
      ]
     },
     "execution_count": 36,
     "metadata": {},
     "output_type": "execute_result"
    }
   ],
   "source": [
    "# Before Cleansing\n",
    "pd.pivot_table(data=df.fillna('MISSING'), \n",
    "               values='PassengerId', \n",
    "               columns=['VIP'], \n",
    "               index=['HomePlanet'],\n",
    "               aggfunc='count',\n",
    "               fill_value=0,\n",
    "               margins=True,\n",
    "               dropna=False,\n",
    "              )"
   ]
  },
  {
   "cell_type": "code",
   "execution_count": 37,
   "id": "3a5277d1",
   "metadata": {
    "cell_style": "split",
    "deletable": false,
    "editable": false
   },
   "outputs": [
    {
     "data": {
      "text/html": [
       "<div>\n",
       "<style scoped>\n",
       "    .dataframe tbody tr th:only-of-type {\n",
       "        vertical-align: middle;\n",
       "    }\n",
       "\n",
       "    .dataframe tbody tr th {\n",
       "        vertical-align: top;\n",
       "    }\n",
       "\n",
       "    .dataframe thead th {\n",
       "        text-align: right;\n",
       "    }\n",
       "</style>\n",
       "<table border=\"1\" class=\"dataframe\">\n",
       "  <thead>\n",
       "    <tr style=\"text-align: right;\">\n",
       "      <th>VIP_EDT</th>\n",
       "      <th>0.0</th>\n",
       "      <th>1.0</th>\n",
       "      <th>All</th>\n",
       "    </tr>\n",
       "    <tr>\n",
       "      <th>HomePlanet_EDT</th>\n",
       "      <th></th>\n",
       "      <th></th>\n",
       "      <th></th>\n",
       "    </tr>\n",
       "  </thead>\n",
       "  <tbody>\n",
       "    <tr>\n",
       "      <th>Earth</th>\n",
       "      <td>7153</td>\n",
       "      <td>0</td>\n",
       "      <td>7153</td>\n",
       "    </tr>\n",
       "    <tr>\n",
       "      <th>Europa</th>\n",
       "      <td>2931</td>\n",
       "      <td>202</td>\n",
       "      <td>3133</td>\n",
       "    </tr>\n",
       "    <tr>\n",
       "      <th>Mars</th>\n",
       "      <td>2584</td>\n",
       "      <td>100</td>\n",
       "      <td>2684</td>\n",
       "    </tr>\n",
       "    <tr>\n",
       "      <th>All</th>\n",
       "      <td>12668</td>\n",
       "      <td>302</td>\n",
       "      <td>12970</td>\n",
       "    </tr>\n",
       "  </tbody>\n",
       "</table>\n",
       "</div>"
      ],
      "text/plain": [
       "VIP_EDT           0.0  1.0    All\n",
       "HomePlanet_EDT                   \n",
       "Earth            7153    0   7153\n",
       "Europa           2931  202   3133\n",
       "Mars             2584  100   2684\n",
       "All             12668  302  12970"
      ]
     },
     "execution_count": 37,
     "metadata": {},
     "output_type": "execute_result"
    }
   ],
   "source": [
    "# After Cleansing\n",
    "pd.pivot_table(data=df.fillna('MISSING'), \n",
    "               values='PassengerId', \n",
    "               columns=['VIP_EDT'], \n",
    "               index=['HomePlanet_EDT'],\n",
    "               aggfunc='count',\n",
    "               fill_value=0,\n",
    "               margins=True,\n",
    "               dropna=False,\n",
    "              )"
   ]
  },
  {
   "cell_type": "markdown",
   "id": "0d7319f5",
   "metadata": {},
   "source": [
    "<div style='font-family:\"Times New Roman\"; line-height: 2;'>\n",
    "    <h3>Cabin Related features</h3>\n",
    "</div>"
   ]
  },
  {
   "cell_type": "markdown",
   "id": "1c7eb823",
   "metadata": {},
   "source": [
    "<div style='font-family:\"Times New Roman\"; line-height: 2;'>\n",
    "    <h4>Split Cabin information as Deck, Number, and Side</h4>\n",
    "</div>"
   ]
  },
  {
   "cell_type": "code",
   "execution_count": 38,
   "id": "a03c6550",
   "metadata": {
    "deletable": false,
    "editable": false
   },
   "outputs": [],
   "source": [
    "# Declare Deck/number/Side as Cabin A, B, C\n",
    "df['Cabin_A'] = np.nan\n",
    "df['Cabin_B'] = np.nan\n",
    "df['Cabin_C'] = np.nan\n",
    "\n",
    "# looping\n",
    "for index, row in df[df['Cabin'].isna() == False].iterrows():\n",
    "    # Split Cabin with '/'\n",
    "    df.loc[index, 'Cabin_A'] = str.split(df.loc[index, 'Cabin'], '/')[0]\n",
    "    df.loc[index, 'Cabin_B'] = int(str.split(df.loc[index, 'Cabin'], '/')[1])\n",
    "    df.loc[index, 'Cabin_C'] = str.split(df.loc[index, 'Cabin'], '/')[2]"
   ]
  },
  {
   "cell_type": "markdown",
   "id": "e3ddba47",
   "metadata": {},
   "source": [
    "<div style='font-family:\"Times New Roman\"; line-height: 2;'>\n",
    "    <h4>Cleansing Deck, Number, and Side with Passenger Group ID</h4>\n",
    "    <p><b>Deck: Cabin_A_EDT</b>\n",
    "        <br/>&emsp;&emsp;This study assumed that the same group of passengers had the same Deck, Number, and Side.</p>\n",
    "</div>"
   ]
  },
  {
   "cell_type": "code",
   "execution_count": 39,
   "id": "076e6f0a",
   "metadata": {
    "deletable": false,
    "editable": false
   },
   "outputs": [],
   "source": [
    "# Fill Null for Same group member's Cabin Information\n",
    "for index, row in df.iterrows():\n",
    "    if row['GROUP_YN'] == 1:\n",
    "        if pd.isnull(row['Cabin_A']):\n",
    "            pid = row['PassengerId_A']\n",
    "            df.loc[index, 'Cabin_A_EDT'] = None\n",
    "            for value in df[df['PassengerId_A'] == pid]['Cabin_A']:\n",
    "                if pd.isnull(value) == False:\n",
    "                    df.loc[index, 'Cabin_A_EDT'] = value\n",
    "                    break\n",
    "            if pd.isnull(df.loc[index, 'Cabin_A_EDT']):\n",
    "                df.loc[index, 'Cabin_A_EDT'] = df['Cabin_A'].mode()[0]\n",
    "        else:\n",
    "            df.loc[index, 'Cabin_A_EDT'] = row['Cabin_A']\n",
    "    else:\n",
    "        if pd.isnull(row['Cabin_A']):\n",
    "            df.loc[index, 'Cabin_A_EDT'] = df['Cabin_A'].mode()[0]\n",
    "        else:\n",
    "            df.loc[index, 'Cabin_A_EDT'] = row['Cabin_A']"
   ]
  },
  {
   "cell_type": "markdown",
   "id": "8d54526f",
   "metadata": {},
   "source": [
    "<div style='font-family:\"Times New Roman\"; line-height: 2;'>\n",
    "    <p><b>Cabin Number: Cabin_B_EDT</b>\n",
    "        <br/>&emsp;&emsp;This study assumed that the same group of passengers had the same Deck, Number, and Side.</p>\n",
    "</div>"
   ]
  },
  {
   "cell_type": "code",
   "execution_count": 40,
   "id": "6571f084",
   "metadata": {
    "deletable": false,
    "editable": false
   },
   "outputs": [],
   "source": [
    "# Fill Null for Same group member's HomePlanet\n",
    "for index, row in df.iterrows():\n",
    "    if row['GROUP_YN'] == 1:\n",
    "        if pd.isnull(row['Cabin_B']):\n",
    "            pid = row['PassengerId_A']\n",
    "            df.loc[index, 'Cabin_B_EDT'] = None\n",
    "            for value in df[df['PassengerId_A'] == pid]['Cabin_B']:\n",
    "                if pd.isnull(value) == False:\n",
    "                    df.loc[index, 'Cabin_B_EDT'] = value\n",
    "                    break\n",
    "            if pd.isnull(df.loc[index, 'Cabin_B_EDT']):\n",
    "                df.loc[index, 'Cabin_B_EDT'] = df['Cabin_B'].mean()\n",
    "        else:\n",
    "            df.loc[index, 'Cabin_B_EDT'] = row['Cabin_B']\n",
    "    else:\n",
    "        if pd.isnull(row['Cabin_B']):\n",
    "            df.loc[index, 'Cabin_B_EDT'] = df['Cabin_B'].mean()\n",
    "        else:\n",
    "            df.loc[index, 'Cabin_B_EDT'] = row['Cabin_B']"
   ]
  },
  {
   "cell_type": "markdown",
   "id": "4d8828a8",
   "metadata": {},
   "source": [
    "<div style='font-family:\"Times New Roman\"; line-height: 2;'>\n",
    "    <p><b>Deck: Cabin_C_EDT</b>\n",
    "        <br/>&emsp;&emsp;This study assumed that the same group of passengers had the same Deck, Number, and Side.</p>\n",
    "</div>"
   ]
  },
  {
   "cell_type": "code",
   "execution_count": 41,
   "id": "4c998f04",
   "metadata": {
    "deletable": false,
    "editable": false
   },
   "outputs": [],
   "source": [
    "# Fill Null for Same group member's HomePlanet\n",
    "for index, row in df.iterrows():\n",
    "    if row['GROUP_YN'] == 1:\n",
    "        if pd.isnull(row['Cabin_C']):\n",
    "            pid = row['PassengerId_A']\n",
    "            df.loc[index, 'Cabin_C_EDT'] = None\n",
    "            for value in df[df['PassengerId_A'] == pid]['Cabin_C']:\n",
    "                if pd.isnull(value) == False:\n",
    "                    df.loc[index, 'Cabin_C_EDT'] = value\n",
    "                    break\n",
    "            if pd.isnull(df.loc[index, 'Cabin_C_EDT']):\n",
    "                df.loc[index, 'Cabin_C_EDT'] = df['Cabin_C'].mode()[0]\n",
    "        else:\n",
    "            df.loc[index, 'Cabin_C_EDT'] = row['Cabin_C']\n",
    "    else:\n",
    "        if pd.isnull(row['Cabin_C']):\n",
    "            df.loc[index, 'Cabin_C_EDT'] = df['Cabin_C'].mode()[0]\n",
    "        else:\n",
    "            df.loc[index, 'Cabin_C_EDT'] = row['Cabin_C']"
   ]
  },
  {
   "cell_type": "markdown",
   "id": "5da6138c",
   "metadata": {},
   "source": [
    "<div style='font-family:\"Times New Roman\"; line-height: 2;'>\n",
    "    <h3>CryoSleep Related Features</h3>\n",
    "</div>"
   ]
  },
  {
   "cell_type": "markdown",
   "id": "d5d3cdef",
   "metadata": {},
   "source": [
    "<div style='font-family:\"Times New Roman\"; line-height: 2;'>\n",
    "    <h4>Cleansing CryoSleep</h4>\n",
    "    <p>&emsp;&emsp;This study searched that passengers who spent money were not sleeping (CryoSleep is False). From this approach, we assumed that if passengers who did not have information about CryoSleep spent more money than zero, those passengers' CryoSleep column would be True.</p>\n",
    "</div>"
   ]
  },
  {
   "cell_type": "code",
   "execution_count": 42,
   "id": "9a470230",
   "metadata": {
    "deletable": false,
    "editable": false
   },
   "outputs": [
    {
     "data": {
      "image/png": "[encoded data removed]",
      "text/plain": [
       "<Figure size 640x480 with 1 Axes>"
      ]
     },
     "metadata": {},
     "output_type": "display_data"
    }
   ],
   "source": [
    "# Sleeping Passengers could not spend money. \n",
    "sns.boxplot(y=np.log(df['SPEND'] + 0.1), x='CryoSleep', data=df)\n",
    "plt.show()"
   ]
  },
  {
   "cell_type": "code",
   "execution_count": 43,
   "id": "e774ec85",
   "metadata": {
    "deletable": false,
    "editable": false
   },
   "outputs": [],
   "source": [
    "for index, row in df.iterrows():\n",
    "    # if CryoSleep Missing\n",
    "    if row['CryoSleep'] is np.nan:\n",
    "        # if spending money\n",
    "        if row['SPEND'] > 0:\n",
    "            # CryoSleep goes to False\n",
    "            df.loc[index,'CryoSleep_EDT'] = 0\n",
    "        # if did not spending money\n",
    "        else:\n",
    "            # CryoSleep goes to True\n",
    "            df.loc[index,'CryoSleep_EDT'] = 1\n",
    "    else:\n",
    "        # CryoSleep Not Missing\n",
    "        if row['CryoSleep']:\n",
    "            # True goes 1\n",
    "            df.loc[index,'CryoSleep_EDT'] = 1\n",
    "        else:\n",
    "            # False goes 0\n",
    "            df.loc[index,'CryoSleep_EDT'] = 0\n",
    "\n",
    "# Convert data type\n",
    "df['CryoSleep_EDT'] = pd.to_numeric(df['CryoSleep_EDT'])"
   ]
  },
  {
   "cell_type": "code",
   "execution_count": 44,
   "id": "9c144ffd",
   "metadata": {
    "cell_style": "split",
    "deletable": false,
    "editable": false
   },
   "outputs": [
    {
     "data": {
      "text/plain": [
       "CryoSleep\n",
       "False        8079\n",
       "True         4581\n",
       "MISSING       310\n",
       "dtype: int64"
      ]
     },
     "execution_count": 44,
     "metadata": {},
     "output_type": "execute_result"
    }
   ],
   "source": [
    "# Before Cleansing\n",
    "df[['CryoSleep']].fillna('MISSING').value_counts()"
   ]
  },
  {
   "cell_type": "code",
   "execution_count": 45,
   "id": "d0e7413b",
   "metadata": {
    "cell_style": "split",
    "deletable": false,
    "editable": false
   },
   "outputs": [
    {
     "data": {
      "text/plain": [
       "CryoSleep_EDT\n",
       "0.0              8247\n",
       "1.0              4723\n",
       "dtype: int64"
      ]
     },
     "execution_count": 45,
     "metadata": {},
     "output_type": "execute_result"
    }
   ],
   "source": [
    "# After Cleasing\n",
    "df[['CryoSleep_EDT']].fillna('missing').value_counts()"
   ]
  },
  {
   "cell_type": "markdown",
   "id": "c3198172",
   "metadata": {},
   "source": [
    "<div style='font-family:\"Times New Roman\"; line-height: 2;'>\n",
    "    <h3>Destination Cleansing</h3>\n",
    "    <p>&emsp;&emsp;We filled the most frequent value in the missing values of the Destination column.</p>\n",
    "</div>"
   ]
  },
  {
   "cell_type": "code",
   "execution_count": 46,
   "id": "2b5a4b09",
   "metadata": {
    "cell_style": "center",
    "deletable": false,
    "editable": false
   },
   "outputs": [],
   "source": [
    "# Destination Fill with mode\n",
    "df['Destination_EDT'] = df['Destination'].fillna(df['Destination'].mode()[0])"
   ]
  },
  {
   "cell_type": "markdown",
   "id": "411931d8",
   "metadata": {},
   "source": [
    "<div style='font-family:\"Times New Roman\"; line-height: 2;'>\n",
    "    <h2>More Feature Engineering</h2>\n",
    "</div>"
   ]
  },
  {
   "cell_type": "markdown",
   "id": "7ee0322b",
   "metadata": {},
   "source": [
    "<div style='font-family:\"Times New Roman\"; line-height: 2;'>\n",
    "    <h3>Dummy Variables from Categorical Variables</h3>\n",
    "</div>"
   ]
  },
  {
   "cell_type": "code",
   "execution_count": 47,
   "id": "f0fc1fed",
   "metadata": {
    "deletable": false,
    "editable": false
   },
   "outputs": [],
   "source": [
    "# Build Homeplanet EDT Dummy\n",
    "dummy = pd.get_dummies(df['HomePlanet'])\n",
    "df = df.join(dummy)\n",
    "# Build Destination EDT Dummy\n",
    "dummy = pd.get_dummies(df['Destination'])\n",
    "df = df.join(dummy)\n",
    "# Build Cabin_A_EDT Dummy\n",
    "dummy = pd.get_dummies(df['Cabin_A'])\n",
    "df = df.join(dummy)\n",
    "# Build Cabin_C_EDT Dummy\n",
    "dummy = pd.get_dummies(df['Cabin_C'])\n",
    "df = df.join(dummy)"
   ]
  },
  {
   "cell_type": "markdown",
   "id": "283a438f",
   "metadata": {},
   "source": [
    "<div style='font-family:\"Times New Roman\"; line-height: 2;'>\n",
    "    <p><b>Deck B and C Dummy</b>\n",
    "        <br/>&emsp;&emsp;Deck B and Deck C have more proportion of transported passengers. Deck B was 81.6%, the highest proportion, and Deck C was 78.34% of transported passengers. Other Decks, however, were around 62% to 67% of transported passengers. Based on this result, this study could assume that if the disaster were a partial accident, Deck B and C would be a starting point or the most affected area. From this approach, we aggregated Deck B and C dummy variable as a DECK_BC Dummy, to increase correlation on target variable.</p>\n",
    "</div>"
   ]
  },
  {
   "cell_type": "code",
   "execution_count": 48,
   "id": "0a2284c8",
   "metadata": {
    "cell_style": "split",
    "deletable": false,
    "editable": false
   },
   "outputs": [
    {
     "data": {
      "text/html": [
       "<div>\n",
       "<style scoped>\n",
       "    .dataframe tbody tr th:only-of-type {\n",
       "        vertical-align: middle;\n",
       "    }\n",
       "\n",
       "    .dataframe tbody tr th {\n",
       "        vertical-align: top;\n",
       "    }\n",
       "\n",
       "    .dataframe thead tr th {\n",
       "        text-align: left;\n",
       "    }\n",
       "\n",
       "    .dataframe thead tr:last-of-type th {\n",
       "        text-align: right;\n",
       "    }\n",
       "</style>\n",
       "<table border=\"1\" class=\"dataframe\">\n",
       "  <thead>\n",
       "    <tr>\n",
       "      <th></th>\n",
       "      <th colspan=\"2\" halign=\"left\">Transported_INT</th>\n",
       "    </tr>\n",
       "    <tr>\n",
       "      <th></th>\n",
       "      <th>count</th>\n",
       "      <th>mean</th>\n",
       "    </tr>\n",
       "    <tr>\n",
       "      <th>Cabin_A_EDT</th>\n",
       "      <th></th>\n",
       "      <th></th>\n",
       "    </tr>\n",
       "  </thead>\n",
       "  <tbody>\n",
       "    <tr>\n",
       "      <th>A</th>\n",
       "      <td>361</td>\n",
       "      <td>0.639889</td>\n",
       "    </tr>\n",
       "    <tr>\n",
       "      <th>B</th>\n",
       "      <td>1161</td>\n",
       "      <td>0.816537</td>\n",
       "    </tr>\n",
       "    <tr>\n",
       "      <th>C</th>\n",
       "      <td>1122</td>\n",
       "      <td>0.783422</td>\n",
       "    </tr>\n",
       "    <tr>\n",
       "      <th>D</th>\n",
       "      <td>730</td>\n",
       "      <td>0.621918</td>\n",
       "    </tr>\n",
       "    <tr>\n",
       "      <th>E</th>\n",
       "      <td>1336</td>\n",
       "      <td>0.576347</td>\n",
       "    </tr>\n",
       "    <tr>\n",
       "      <th>F</th>\n",
       "      <td>4430</td>\n",
       "      <td>0.631828</td>\n",
       "    </tr>\n",
       "    <tr>\n",
       "      <th>G</th>\n",
       "      <td>3819</td>\n",
       "      <td>0.672165</td>\n",
       "    </tr>\n",
       "    <tr>\n",
       "      <th>T</th>\n",
       "      <td>11</td>\n",
       "      <td>0.636364</td>\n",
       "    </tr>\n",
       "  </tbody>\n",
       "</table>\n",
       "</div>"
      ],
      "text/plain": [
       "            Transported_INT          \n",
       "                      count      mean\n",
       "Cabin_A_EDT                          \n",
       "A                       361  0.639889\n",
       "B                      1161  0.816537\n",
       "C                      1122  0.783422\n",
       "D                       730  0.621918\n",
       "E                      1336  0.576347\n",
       "F                      4430  0.631828\n",
       "G                      3819  0.672165\n",
       "T                        11  0.636364"
      ]
     },
     "execution_count": 48,
     "metadata": {},
     "output_type": "execute_result"
    }
   ],
   "source": [
    "# Checking Each deck's transpoerted passenger rate.\n",
    "# Deck B and Deck C has higher proportion than other decks.\n",
    "df.groupby('Cabin_A_EDT')[['Transported_INT']].agg(['count', 'mean'])"
   ]
  },
  {
   "cell_type": "code",
   "execution_count": 49,
   "id": "cdf60fb1",
   "metadata": {
    "cell_style": "split",
    "deletable": false,
    "editable": false
   },
   "outputs": [
    {
     "data": {
      "image/png": "[encoded data removed]",
      "text/plain": [
       "<Figure size 640x480 with 1 Axes>"
      ]
     },
     "metadata": {},
     "output_type": "display_data"
    }
   ],
   "source": [
    "# Deck B and Deck C has higher proportion than other decks.\n",
    "df.groupby(['Cabin_A_EDT'])[['Transported_INT']].mean().plot(kind='bar')\n",
    "plt.show()"
   ]
  },
  {
   "cell_type": "code",
   "execution_count": 50,
   "id": "c7d3fb12",
   "metadata": {
    "deletable": false,
    "editable": false
   },
   "outputs": [],
   "source": [
    "# Combine Deck B and Deck C\n",
    "df['Deck_BC'] = df['B'] + df['C']"
   ]
  },
  {
   "cell_type": "markdown",
   "id": "4c72b50b",
   "metadata": {},
   "source": [
    "<div style='font-family:\"Times New Roman\"; line-height: 2;'>\n",
    "    <h3>Cabin and Passenger Group Status</h3>\n",
    "</div>"
   ]
  },
  {
   "cell_type": "markdown",
   "id": "4e043cec",
   "metadata": {},
   "source": [
    "<div style='font-family:\"Times New Roman\"; line-height: 2;'>\n",
    "    <h4>Checking Data</h4>\n",
    "</div>"
   ]
  },
  {
   "cell_type": "markdown",
   "id": "73a57f78",
   "metadata": {},
   "source": [
    "<div style='font-family:\"Times New Roman\"; line-height: 2;'>\n",
    "    <h5>Analysis output 4.</h5>\n",
    "    <p style='text-align: justify;'>&emsp;&emsp;[Table 5.] shows each cabin’s passenger’s CryoSleep status. CryoSleep Sum means the total number of sleeping passengers in the same cabin, Count means the total passengers in the same cabin, and mean implies the proportion of sleeping passengers in the same cabin. If the cabin has an average of 1.00  mean, passengers in that cabin were sleeping 100% at the time of the disaster. From this information, we can assume that some cabin passengers were all asleep, meaning they could not help each other when they met the disaster. Otherwise, if all passengers were  awake at the time of the disaster, they could help each other to escape that situation. In the same way, if at least one of the passengers was awake, he or she could wake other passengers up in the same cabin, and these passengers' survival chance would be  more. Based on this assumption, we built dummy variables of each CryoSleep status of the cabin. .</p>\n",
    "</div>"
   ]
  },
  {
   "cell_type": "code",
   "execution_count": 51,
   "id": "c4a88380",
   "metadata": {
    "deletable": false,
    "editable": false
   },
   "outputs": [
    {
     "name": "stdout",
     "output_type": "stream",
     "text": [
      "\n",
      "Analysis Output 4.  \n",
      "----------------------------------------------------\n",
      "\n",
      "[Table 5. CryoSleep Status in the same cabin]\n",
      "\n"
     ]
    },
    {
     "data": {
      "text/html": [
       "<div>\n",
       "<style scoped>\n",
       "    .dataframe tbody tr th:only-of-type {\n",
       "        vertical-align: middle;\n",
       "    }\n",
       "\n",
       "    .dataframe tbody tr th {\n",
       "        vertical-align: top;\n",
       "    }\n",
       "\n",
       "    .dataframe thead tr th {\n",
       "        text-align: left;\n",
       "    }\n",
       "</style>\n",
       "<table border=\"1\" class=\"dataframe\">\n",
       "  <thead>\n",
       "    <tr>\n",
       "      <th></th>\n",
       "      <th>Cabin_C_EDT</th>\n",
       "      <th>Cabin_A_EDT</th>\n",
       "      <th>Cabin_B_EDT</th>\n",
       "      <th colspan=\"3\" halign=\"left\">CryoSleep_EDT</th>\n",
       "    </tr>\n",
       "    <tr>\n",
       "      <th></th>\n",
       "      <th></th>\n",
       "      <th></th>\n",
       "      <th></th>\n",
       "      <th>sum</th>\n",
       "      <th>count</th>\n",
       "      <th>mean</th>\n",
       "    </tr>\n",
       "  </thead>\n",
       "  <tbody>\n",
       "    <tr>\n",
       "      <th>0</th>\n",
       "      <td>P</td>\n",
       "      <td>A</td>\n",
       "      <td>0.0</td>\n",
       "      <td>1.0</td>\n",
       "      <td>2</td>\n",
       "      <td>0.50</td>\n",
       "    </tr>\n",
       "    <tr>\n",
       "      <th>1</th>\n",
       "      <td>P</td>\n",
       "      <td>A</td>\n",
       "      <td>1.0</td>\n",
       "      <td>0.0</td>\n",
       "      <td>1</td>\n",
       "      <td>0.00</td>\n",
       "    </tr>\n",
       "    <tr>\n",
       "      <th>2</th>\n",
       "      <td>P</td>\n",
       "      <td>A</td>\n",
       "      <td>2.0</td>\n",
       "      <td>0.0</td>\n",
       "      <td>1</td>\n",
       "      <td>0.00</td>\n",
       "    </tr>\n",
       "    <tr>\n",
       "      <th>3</th>\n",
       "      <td>P</td>\n",
       "      <td>A</td>\n",
       "      <td>3.0</td>\n",
       "      <td>1.0</td>\n",
       "      <td>1</td>\n",
       "      <td>1.00</td>\n",
       "    </tr>\n",
       "    <tr>\n",
       "      <th>4</th>\n",
       "      <td>P</td>\n",
       "      <td>A</td>\n",
       "      <td>4.0</td>\n",
       "      <td>2.0</td>\n",
       "      <td>3</td>\n",
       "      <td>0.67</td>\n",
       "    </tr>\n",
       "    <tr>\n",
       "      <th>5</th>\n",
       "      <td>P</td>\n",
       "      <td>A</td>\n",
       "      <td>5.0</td>\n",
       "      <td>0.0</td>\n",
       "      <td>1</td>\n",
       "      <td>0.00</td>\n",
       "    </tr>\n",
       "    <tr>\n",
       "      <th>6</th>\n",
       "      <td>P</td>\n",
       "      <td>A</td>\n",
       "      <td>6.0</td>\n",
       "      <td>0.0</td>\n",
       "      <td>1</td>\n",
       "      <td>0.00</td>\n",
       "    </tr>\n",
       "    <tr>\n",
       "      <th>7</th>\n",
       "      <td>P</td>\n",
       "      <td>A</td>\n",
       "      <td>7.0</td>\n",
       "      <td>1.0</td>\n",
       "      <td>3</td>\n",
       "      <td>0.33</td>\n",
       "    </tr>\n",
       "    <tr>\n",
       "      <th>8</th>\n",
       "      <td>P</td>\n",
       "      <td>A</td>\n",
       "      <td>8.0</td>\n",
       "      <td>0.0</td>\n",
       "      <td>1</td>\n",
       "      <td>0.00</td>\n",
       "    </tr>\n",
       "    <tr>\n",
       "      <th>9</th>\n",
       "      <td>P</td>\n",
       "      <td>A</td>\n",
       "      <td>9.0</td>\n",
       "      <td>0.0</td>\n",
       "      <td>2</td>\n",
       "      <td>0.00</td>\n",
       "    </tr>\n",
       "    <tr>\n",
       "      <th>10</th>\n",
       "      <td>P</td>\n",
       "      <td>A</td>\n",
       "      <td>10.0</td>\n",
       "      <td>0.0</td>\n",
       "      <td>1</td>\n",
       "      <td>0.00</td>\n",
       "    </tr>\n",
       "    <tr>\n",
       "      <th>11</th>\n",
       "      <td>P</td>\n",
       "      <td>A</td>\n",
       "      <td>11.0</td>\n",
       "      <td>0.0</td>\n",
       "      <td>2</td>\n",
       "      <td>0.00</td>\n",
       "    </tr>\n",
       "    <tr>\n",
       "      <th>12</th>\n",
       "      <td>P</td>\n",
       "      <td>A</td>\n",
       "      <td>12.0</td>\n",
       "      <td>0.0</td>\n",
       "      <td>3</td>\n",
       "      <td>0.00</td>\n",
       "    </tr>\n",
       "    <tr>\n",
       "      <th>13</th>\n",
       "      <td>P</td>\n",
       "      <td>A</td>\n",
       "      <td>13.0</td>\n",
       "      <td>0.0</td>\n",
       "      <td>2</td>\n",
       "      <td>0.00</td>\n",
       "    </tr>\n",
       "    <tr>\n",
       "      <th>14</th>\n",
       "      <td>P</td>\n",
       "      <td>A</td>\n",
       "      <td>14.0</td>\n",
       "      <td>2.0</td>\n",
       "      <td>2</td>\n",
       "      <td>1.00</td>\n",
       "    </tr>\n",
       "  </tbody>\n",
       "</table>\n",
       "</div>"
      ],
      "text/plain": [
       "   Cabin_C_EDT Cabin_A_EDT Cabin_B_EDT CryoSleep_EDT            \n",
       "                                                 sum count  mean\n",
       "0            P           A         0.0           1.0     2  0.50\n",
       "1            P           A         1.0           0.0     1  0.00\n",
       "2            P           A         2.0           0.0     1  0.00\n",
       "3            P           A         3.0           1.0     1  1.00\n",
       "4            P           A         4.0           2.0     3  0.67\n",
       "5            P           A         5.0           0.0     1  0.00\n",
       "6            P           A         6.0           0.0     1  0.00\n",
       "7            P           A         7.0           1.0     3  0.33\n",
       "8            P           A         8.0           0.0     1  0.00\n",
       "9            P           A         9.0           0.0     2  0.00\n",
       "10           P           A        10.0           0.0     1  0.00\n",
       "11           P           A        11.0           0.0     2  0.00\n",
       "12           P           A        12.0           0.0     3  0.00\n",
       "13           P           A        13.0           0.0     2  0.00\n",
       "14           P           A        14.0           2.0     2  1.00"
      ]
     },
     "execution_count": 51,
     "metadata": {},
     "output_type": "execute_result"
    }
   ],
   "source": [
    "print(f\"\"\"\n",
    "Analysis Output 4.  \n",
    "----------------------------------------------------\n",
    "\n",
    "[Table 5. CryoSleep Status in the same cabin]\n",
    "\"\"\")\n",
    "# Checking Cabin Group\n",
    "df.groupby(['Cabin_C_EDT', 'Cabin_A_EDT', 'Cabin_B_EDT'])[['CryoSleep_EDT']].agg(['sum', 'count','mean']).round(decimals=2).reset_index().head(15)"
   ]
  },
  {
   "cell_type": "markdown",
   "id": "e14ecab8",
   "metadata": {},
   "source": [
    "<div style='font-family:\"Times New Roman\"; line-height: 2;'>\n",
    "    <h4>Cabin CryoSleep Status</h4>\n",
    "</div>"
   ]
  },
  {
   "cell_type": "code",
   "execution_count": 52,
   "id": "5b3d090e",
   "metadata": {
    "deletable": false,
    "editable": false
   },
   "outputs": [],
   "source": [
    "# Build Cabin based Data frame\n",
    "cabin_df = df.groupby(['Cabin_C_EDT', 'Cabin_A_EDT', 'Cabin_B_EDT'])['CryoSleep_EDT'].agg(['sum', 'count','mean']).reset_index()"
   ]
  },
  {
   "cell_type": "code",
   "execution_count": 53,
   "id": "74eb4fae",
   "metadata": {
    "deletable": false,
    "editable": false
   },
   "outputs": [],
   "source": [
    "cabin_df['Cabin_Sleep'] = 0\n",
    "cabin_df['Cabin_Awake'] = 0\n",
    "cabin_df['Cabin_Mixed'] = 0\n",
    "# Build a Cabin Status Dummy\n",
    "for index, row in cabin_df.iterrows():\n",
    "    # 100% people in cabin are sleeping\n",
    "    if row['mean'] == 1.0:\n",
    "        cabin_df.loc[index, 'Cabin_Sleep'] = 1\n",
    "        cabin_df.loc[index, 'Cabin_Awake'] = 0\n",
    "        cabin_df.loc[index, 'Cabin_Mixed'] = 0\n",
    "    # 0% people in cabin are awakening\n",
    "    elif row['mean'] == 0:\n",
    "        cabin_df.loc[index, 'Cabin_Sleep'] = 0\n",
    "        cabin_df.loc[index, 'Cabin_Awake'] = 1\n",
    "        cabin_df.loc[index, 'Cabin_Mixed'] = 0\n",
    "    # Others \n",
    "    else:\n",
    "        cabin_df.loc[index, 'Cabin_Sleep'] = 0\n",
    "        cabin_df.loc[index, 'Cabin_Awake'] = 0\n",
    "        cabin_df.loc[index, 'Cabin_Mixed'] = 1"
   ]
  },
  {
   "cell_type": "code",
   "execution_count": 54,
   "id": "31ea5ffb",
   "metadata": {
    "deletable": false,
    "editable": false
   },
   "outputs": [],
   "source": [
    "# Merging Dataset\n",
    "df = df.merge(cabin_df[['Cabin_A_EDT', 'Cabin_B_EDT', 'Cabin_C_EDT', 'Cabin_Sleep', 'Cabin_Awake', 'Cabin_Mixed']], on=['Cabin_A_EDT', 'Cabin_B_EDT', 'Cabin_C_EDT'], how='left')"
   ]
  },
  {
   "cell_type": "markdown",
   "id": "a80fd9cc",
   "metadata": {},
   "source": [
    "<div style='font-family:\"Times New Roman\"; line-height: 2;'>\n",
    "    <h4>Passenger Group CryoSleep Status</h4>\n",
    "    <p>&emsp;&emsp;Same as cabin CryoSleep status, we checked to CryoSleep status of passenger grou and built dummy variables for group sleep status.</p>\n",
    "</div>"
   ]
  },
  {
   "cell_type": "code",
   "execution_count": 55,
   "id": "230201a5",
   "metadata": {
    "deletable": false,
    "editable": false
   },
   "outputs": [],
   "source": [
    "# Build Group Based (PassengerId_B) Status\n",
    "group_df = df.groupby(['PassengerId_A'])['CryoSleep_EDT'].agg(['sum', 'count','mean'])"
   ]
  },
  {
   "cell_type": "code",
   "execution_count": 56,
   "id": "ef04ebf1",
   "metadata": {
    "deletable": false,
    "editable": false
   },
   "outputs": [],
   "source": [
    "group_df['Grp_Sleep'] = 0\n",
    "group_df['Grp_Awake'] = 0\n",
    "group_df['Grp_Mixed'] = 0\n",
    "# Loop with group\n",
    "for index, row in group_df.iterrows():\n",
    "    if row['mean'] == 1.0:\n",
    "        group_df.loc[index, 'Grp_Sleep'] = 1\n",
    "        group_df.loc[index, 'Grp_Awake'] = 0\n",
    "        group_df.loc[index, 'Grp_Mixed'] = 0\n",
    "    elif row['mean'] == 0:\n",
    "        group_df.loc[index, 'Grp_Sleep'] = 0\n",
    "        group_df.loc[index, 'Grp_Awake'] = 1\n",
    "        group_df.loc[index, 'Grp_Mixed'] = 0\n",
    "    else:\n",
    "        group_df.loc[index, 'Grp_Sleep'] = 0\n",
    "        group_df.loc[index, 'Grp_Awake'] = 0\n",
    "        group_df.loc[index, 'Grp_Mixed'] = 1"
   ]
  },
  {
   "cell_type": "code",
   "execution_count": 57,
   "id": "d3d25f88",
   "metadata": {
    "deletable": false,
    "editable": false
   },
   "outputs": [],
   "source": [
    "# Merging\n",
    "df = df.merge(group_df.reset_index()[['PassengerId_A', 'Grp_Sleep', 'Grp_Awake', 'Grp_Mixed']], on='PassengerId_A', how='left')"
   ]
  },
  {
   "cell_type": "markdown",
   "id": "bbd6b37c",
   "metadata": {},
   "source": [
    "<div style='font-family:\"Times New Roman\"; line-height: 2;'>\n",
    "    <h2>Build Model</h2>\n",
    "</div>"
   ]
  },
  {
   "cell_type": "markdown",
   "id": "b1d4802e",
   "metadata": {},
   "source": [
    "<div style='font-family:\"Times New Roman\"; line-height: 2;'>\n",
    "    <h3>Checking All Features</h3>\n",
    "</div>"
   ]
  },
  {
   "cell_type": "markdown",
   "id": "ae00c2cb",
   "metadata": {},
   "source": [
    "<div style='font-family:\"Times New Roman\"; line-height: 2;'>\n",
    "    <h5>Analysis output 5.</h5>\n",
    "    <p style='text-align: justify;'>&emsp;&emsp;[Table 6-1.] represents the correlation coefficient on the target variable of all numeric columns before preprocessing. Only three columns (RoomService, Spa, and VRDeck) have more than 0.2 in the absolute value of the correlation coefficient. [Table 6-2.] shows the new features' correlation coefficients on the target variable after preprocessing. After preprocessing, we found that CryoSleep has the most positive correlation of 0.34, which means that if passengers were sleeping during the disaster, the probability of being transported also would be increased simultaneously. On the other hand, the most negative correlation feature is Cabin_Awake, which means that the passengers who did not sleep in the same cabin have a higher possibility to survive in the spaceship.</p>\n",
    "</div>"
   ]
  },
  {
   "cell_type": "markdown",
   "id": "4ba8c36c",
   "metadata": {
    "cell_style": "split"
   },
   "source": [
    "<div style='font-family:\"Times New Roman\"; line-height: 2;'>\n",
    "    <h4>Correlation Before Preprocessing</h4>\n",
    "</div>"
   ]
  },
  {
   "cell_type": "markdown",
   "id": "d9899811",
   "metadata": {
    "cell_style": "split"
   },
   "source": [
    "<div style='font-family:\"Times New Roman\"; line-height: 2;'>\n",
    "    <h4>Correlation After Preprocessing</h4>\n",
    "</div>"
   ]
  },
  {
   "cell_type": "code",
   "execution_count": 58,
   "id": "fa87c4e0",
   "metadata": {
    "cell_style": "split",
    "deletable": false,
    "editable": false
   },
   "outputs": [
    {
     "name": "stdout",
     "output_type": "stream",
     "text": [
      "\n",
      "Analysis Output 5.  \n",
      "----------------------------------------------------\n",
      "\n",
      "[Table 6-1. Correlation Before Preprocessing]\n",
      "\n"
     ]
    },
    {
     "data": {
      "text/html": [
       "<div>\n",
       "<style scoped>\n",
       "    .dataframe tbody tr th:only-of-type {\n",
       "        vertical-align: middle;\n",
       "    }\n",
       "\n",
       "    .dataframe tbody tr th {\n",
       "        vertical-align: top;\n",
       "    }\n",
       "\n",
       "    .dataframe thead th {\n",
       "        text-align: right;\n",
       "    }\n",
       "</style>\n",
       "<table border=\"1\" class=\"dataframe\">\n",
       "  <thead>\n",
       "    <tr style=\"text-align: right;\">\n",
       "      <th></th>\n",
       "      <th>Transported</th>\n",
       "    </tr>\n",
       "  </thead>\n",
       "  <tbody>\n",
       "    <tr>\n",
       "      <th>Transported</th>\n",
       "      <td>1.00</td>\n",
       "    </tr>\n",
       "    <tr>\n",
       "      <th>FoodCourt</th>\n",
       "      <td>0.05</td>\n",
       "    </tr>\n",
       "    <tr>\n",
       "      <th>ShoppingMall</th>\n",
       "      <td>0.01</td>\n",
       "    </tr>\n",
       "    <tr>\n",
       "      <th>Age</th>\n",
       "      <td>-0.08</td>\n",
       "    </tr>\n",
       "    <tr>\n",
       "      <th>VRDeck</th>\n",
       "      <td>-0.21</td>\n",
       "    </tr>\n",
       "    <tr>\n",
       "      <th>Spa</th>\n",
       "      <td>-0.22</td>\n",
       "    </tr>\n",
       "    <tr>\n",
       "      <th>RoomService</th>\n",
       "      <td>-0.24</td>\n",
       "    </tr>\n",
       "  </tbody>\n",
       "</table>\n",
       "</div>"
      ],
      "text/plain": [
       "              Transported\n",
       "Transported          1.00\n",
       "FoodCourt            0.05\n",
       "ShoppingMall         0.01\n",
       "Age                 -0.08\n",
       "VRDeck              -0.21\n",
       "Spa                 -0.22\n",
       "RoomService         -0.24"
      ]
     },
     "execution_count": 58,
     "metadata": {},
     "output_type": "execute_result"
    }
   ],
   "source": [
    "# instantiating a correlation matrix\n",
    "titanic_corr = titanic_train.corr(method = 'pearson').round(decimals = 2)\n",
    "print(f\"\"\"\n",
    "Analysis Output 5.  \n",
    "----------------------------------------------------\n",
    "\n",
    "[Table 6-1. Correlation Before Preprocessing]\n",
    "\"\"\")\n",
    "# transforming correlations to absolute values\n",
    "titanic_corr[['Transported']].sort_values(by='Transported', ascending = False)"
   ]
  },
  {
   "cell_type": "code",
   "execution_count": 59,
   "id": "0aae299e",
   "metadata": {
    "cell_style": "split",
    "deletable": false,
    "editable": false
   },
   "outputs": [
    {
     "name": "stdout",
     "output_type": "stream",
     "text": [
      "\n",
      "Analysis Output 5.  \n",
      "----------------------------------------------------\n",
      "\n",
      "[Table 6-1. Correlation After Preprocessing]\n",
      "\n"
     ]
    },
    {
     "data": {
      "text/html": [
       "<div>\n",
       "<style scoped>\n",
       "    .dataframe tbody tr th:only-of-type {\n",
       "        vertical-align: middle;\n",
       "    }\n",
       "\n",
       "    .dataframe tbody tr th {\n",
       "        vertical-align: top;\n",
       "    }\n",
       "\n",
       "    .dataframe thead th {\n",
       "        text-align: right;\n",
       "    }\n",
       "</style>\n",
       "<table border=\"1\" class=\"dataframe\">\n",
       "  <thead>\n",
       "    <tr style=\"text-align: right;\">\n",
       "      <th></th>\n",
       "      <th>Transported_INT</th>\n",
       "    </tr>\n",
       "  </thead>\n",
       "  <tbody>\n",
       "    <tr>\n",
       "      <th>Transported_INT</th>\n",
       "      <td>1.00</td>\n",
       "    </tr>\n",
       "    <tr>\n",
       "      <th>CryoSleep_EDT</th>\n",
       "      <td>0.34</td>\n",
       "    </tr>\n",
       "    <tr>\n",
       "      <th>Zero_VRDeck</th>\n",
       "      <td>0.24</td>\n",
       "    </tr>\n",
       "    <tr>\n",
       "      <th>Zero_spa</th>\n",
       "      <td>0.24</td>\n",
       "    </tr>\n",
       "    <tr>\n",
       "      <th>Cabin_Sleep</th>\n",
       "      <td>0.24</td>\n",
       "    </tr>\n",
       "    <tr>\n",
       "      <th>Zero_RoomService</th>\n",
       "      <td>0.24</td>\n",
       "    </tr>\n",
       "    <tr>\n",
       "      <th>Grp_Sleep</th>\n",
       "      <td>0.23</td>\n",
       "    </tr>\n",
       "    <tr>\n",
       "      <th>Deck_BC</th>\n",
       "      <td>0.13</td>\n",
       "    </tr>\n",
       "    <tr>\n",
       "      <th>Europa</th>\n",
       "      <td>0.12</td>\n",
       "    </tr>\n",
       "    <tr>\n",
       "      <th>B</th>\n",
       "      <td>0.10</td>\n",
       "    </tr>\n",
       "    <tr>\n",
       "      <th>Grp_Mixed</th>\n",
       "      <td>0.09</td>\n",
       "    </tr>\n",
       "    <tr>\n",
       "      <th>Cabin_Mixed</th>\n",
       "      <td>0.09</td>\n",
       "    </tr>\n",
       "    <tr>\n",
       "      <th>KIDS</th>\n",
       "      <td>0.09</td>\n",
       "    </tr>\n",
       "    <tr>\n",
       "      <th>GROUP_YN</th>\n",
       "      <td>0.08</td>\n",
       "    </tr>\n",
       "    <tr>\n",
       "      <th>55 Cancri e</th>\n",
       "      <td>0.07</td>\n",
       "    </tr>\n",
       "    <tr>\n",
       "      <th>TODDLER</th>\n",
       "      <td>0.07</td>\n",
       "    </tr>\n",
       "    <tr>\n",
       "      <th>S</th>\n",
       "      <td>0.07</td>\n",
       "    </tr>\n",
       "    <tr>\n",
       "      <th>C</th>\n",
       "      <td>0.07</td>\n",
       "    </tr>\n",
       "    <tr>\n",
       "      <th>INFANT</th>\n",
       "      <td>0.06</td>\n",
       "    </tr>\n",
       "    <tr>\n",
       "      <th>PassengerId_B</th>\n",
       "      <td>0.04</td>\n",
       "    </tr>\n",
       "    <tr>\n",
       "      <th>FoodCourt_EDT</th>\n",
       "      <td>0.03</td>\n",
       "    </tr>\n",
       "    <tr>\n",
       "      <th>Mars</th>\n",
       "      <td>0.02</td>\n",
       "    </tr>\n",
       "    <tr>\n",
       "      <th>G</th>\n",
       "      <td>0.01</td>\n",
       "    </tr>\n",
       "    <tr>\n",
       "      <th>ShoppingMall_EDT</th>\n",
       "      <td>0.01</td>\n",
       "    </tr>\n",
       "    <tr>\n",
       "      <th>T</th>\n",
       "      <td>-0.00</td>\n",
       "    </tr>\n",
       "    <tr>\n",
       "      <th>PSO J318.5-22</th>\n",
       "      <td>-0.00</td>\n",
       "    </tr>\n",
       "    <tr>\n",
       "      <th>A</th>\n",
       "      <td>-0.01</td>\n",
       "    </tr>\n",
       "    <tr>\n",
       "      <th>D</th>\n",
       "      <td>-0.02</td>\n",
       "    </tr>\n",
       "    <tr>\n",
       "      <th>Cabin_B_EDT</th>\n",
       "      <td>-0.03</td>\n",
       "    </tr>\n",
       "    <tr>\n",
       "      <th>VIP_EDT</th>\n",
       "      <td>-0.04</td>\n",
       "    </tr>\n",
       "    <tr>\n",
       "      <th>F</th>\n",
       "      <td>-0.05</td>\n",
       "    </tr>\n",
       "    <tr>\n",
       "      <th>Age_EDT</th>\n",
       "      <td>-0.06</td>\n",
       "    </tr>\n",
       "    <tr>\n",
       "      <th>spa_low</th>\n",
       "      <td>-0.06</td>\n",
       "    </tr>\n",
       "    <tr>\n",
       "      <th>TRAPPIST-1e</th>\n",
       "      <td>-0.06</td>\n",
       "    </tr>\n",
       "    <tr>\n",
       "      <th>VRDeck_low</th>\n",
       "      <td>-0.07</td>\n",
       "    </tr>\n",
       "    <tr>\n",
       "      <th>P</th>\n",
       "      <td>-0.07</td>\n",
       "    </tr>\n",
       "    <tr>\n",
       "      <th>E</th>\n",
       "      <td>-0.07</td>\n",
       "    </tr>\n",
       "    <tr>\n",
       "      <th>RoomService_low</th>\n",
       "      <td>-0.07</td>\n",
       "    </tr>\n",
       "    <tr>\n",
       "      <th>VRDeck_med</th>\n",
       "      <td>-0.11</td>\n",
       "    </tr>\n",
       "    <tr>\n",
       "      <th>spa_med</th>\n",
       "      <td>-0.11</td>\n",
       "    </tr>\n",
       "    <tr>\n",
       "      <th>Earth</th>\n",
       "      <td>-0.12</td>\n",
       "    </tr>\n",
       "    <tr>\n",
       "      <th>RoomService_med</th>\n",
       "      <td>-0.12</td>\n",
       "    </tr>\n",
       "    <tr>\n",
       "      <th>VRDeck_EDT</th>\n",
       "      <td>-0.14</td>\n",
       "    </tr>\n",
       "    <tr>\n",
       "      <th>TOTAL_SPEND</th>\n",
       "      <td>-0.14</td>\n",
       "    </tr>\n",
       "    <tr>\n",
       "      <th>Spa_EDT</th>\n",
       "      <td>-0.16</td>\n",
       "    </tr>\n",
       "    <tr>\n",
       "      <th>VRDeck_high</th>\n",
       "      <td>-0.18</td>\n",
       "    </tr>\n",
       "    <tr>\n",
       "      <th>RoomService_EDT</th>\n",
       "      <td>-0.18</td>\n",
       "    </tr>\n",
       "    <tr>\n",
       "      <th>RoomService_high</th>\n",
       "      <td>-0.18</td>\n",
       "    </tr>\n",
       "    <tr>\n",
       "      <th>spa_high</th>\n",
       "      <td>-0.19</td>\n",
       "    </tr>\n",
       "    <tr>\n",
       "      <th>SPEND</th>\n",
       "      <td>-0.25</td>\n",
       "    </tr>\n",
       "    <tr>\n",
       "      <th>Grp_Awake</th>\n",
       "      <td>-0.27</td>\n",
       "    </tr>\n",
       "    <tr>\n",
       "      <th>Cabin_Awake</th>\n",
       "      <td>-0.29</td>\n",
       "    </tr>\n",
       "  </tbody>\n",
       "</table>\n",
       "</div>"
      ],
      "text/plain": [
       "                  Transported_INT\n",
       "Transported_INT              1.00\n",
       "CryoSleep_EDT                0.34\n",
       "Zero_VRDeck                  0.24\n",
       "Zero_spa                     0.24\n",
       "Cabin_Sleep                  0.24\n",
       "Zero_RoomService             0.24\n",
       "Grp_Sleep                    0.23\n",
       "Deck_BC                      0.13\n",
       "Europa                       0.12\n",
       "B                            0.10\n",
       "Grp_Mixed                    0.09\n",
       "Cabin_Mixed                  0.09\n",
       "KIDS                         0.09\n",
       "GROUP_YN                     0.08\n",
       "55 Cancri e                  0.07\n",
       "TODDLER                      0.07\n",
       "S                            0.07\n",
       "C                            0.07\n",
       "INFANT                       0.06\n",
       "PassengerId_B                0.04\n",
       "FoodCourt_EDT                0.03\n",
       "Mars                         0.02\n",
       "G                            0.01\n",
       "ShoppingMall_EDT             0.01\n",
       "T                           -0.00\n",
       "PSO J318.5-22               -0.00\n",
       "A                           -0.01\n",
       "D                           -0.02\n",
       "Cabin_B_EDT                 -0.03\n",
       "VIP_EDT                     -0.04\n",
       "F                           -0.05\n",
       "Age_EDT                     -0.06\n",
       "spa_low                     -0.06\n",
       "TRAPPIST-1e                 -0.06\n",
       "VRDeck_low                  -0.07\n",
       "P                           -0.07\n",
       "E                           -0.07\n",
       "RoomService_low             -0.07\n",
       "VRDeck_med                  -0.11\n",
       "spa_med                     -0.11\n",
       "Earth                       -0.12\n",
       "RoomService_med             -0.12\n",
       "VRDeck_EDT                  -0.14\n",
       "TOTAL_SPEND                 -0.14\n",
       "Spa_EDT                     -0.16\n",
       "VRDeck_high                 -0.18\n",
       "RoomService_EDT             -0.18\n",
       "RoomService_high            -0.18\n",
       "spa_high                    -0.19\n",
       "SPEND                       -0.25\n",
       "Grp_Awake                   -0.27\n",
       "Cabin_Awake                 -0.29"
      ]
     },
     "execution_count": 59,
     "metadata": {},
     "output_type": "execute_result"
    }
   ],
   "source": [
    "# instantiating a correlation matrix\n",
    "titanic_corr_after = df.corr(method = 'pearson').round(decimals = 2)\n",
    "print(f\"\"\"\n",
    "Analysis Output 5.  \n",
    "----------------------------------------------------\n",
    "\n",
    "[Table 6-1. Correlation After Preprocessing]\n",
    "\"\"\")\n",
    "# transforming correlations to absolute values\n",
    "titanic_corr_after.loc[ ['Transported_INT','CryoSleep_EDT',    'Cabin_Awake',    'Grp_Awake',    'SPEND',    'Zero_VRDeck',    'Zero_spa',    'Cabin_Sleep',    'Zero_RoomService',    'Grp_Sleep','spa_high',    'VRDeck_high',    'RoomService_EDT',    'RoomService_high',    'Spa_EDT',    'TOTAL_SPEND',    'VRDeck_EDT','Deck_BC',    'RoomService_med',    'Europa',    'Earth',    'spa_med',    'VRDeck_med',    'B',    'Cabin_Mixed','Grp_Mixed',    'KIDS',    'GROUP_YN',    'C',    'RoomService_low',    'S',    'TODDLER',    'P',    'E',    '55 Cancri e','VRDeck_low',    'TRAPPIST-1e',    'spa_low',    'Age_EDT',    'INFANT',    'F',    'PassengerId_B',    'VIP_EDT','Cabin_B_EDT',    'FoodCourt_EDT',    'D',    'Mars',    'G',    'ShoppingMall_EDT',    'A',    'T',    'PSO J318.5-22',] , ['Transported_INT'] ].sort_values(by='Transported_INT', ascending = False)"
   ]
  },
  {
   "cell_type": "markdown",
   "id": "ab22c8e3",
   "metadata": {
    "cell_style": "center"
   },
   "source": [
    "<div style='font-family:\"Times New Roman\"; line-height: 2;'>\n",
    "    <h3>Feature Selection</h3>\n",
    "     <p>&emsp;&emsp;Finally, this study defined total 47 explanatory variables.</p>\n",
    "</div>"
   ]
  },
  {
   "cell_type": "code",
   "execution_count": 60,
   "id": "ddbf299a",
   "metadata": {
    "cell_style": "center",
    "deletable": false,
    "editable": false
   },
   "outputs": [],
   "source": [
    "# Target Variable Selection\n",
    "x_target = [\n",
    "    'RoomService_EDT', 'FoodCourt_EDT', 'ShoppingMall_EDT', 'Spa_EDT', 'VRDeck_EDT', \n",
    "    'TOTAL_SPEND', 'SPEND', \n",
    "    'Zero_RoomService', 'RoomService_low', 'RoomService_med', 'RoomService_high', \n",
    "    'Zero_spa', 'spa_low', 'spa_med', 'spa_high', \n",
    "    'Zero_VRDeck', 'VRDeck_low', 'VRDeck_med', 'VRDeck_high', \n",
    "    'VIP_EDT', \n",
    "    'PassengerId_B', \n",
    "    'GROUP_YN', \n",
    "    'Cabin_B_EDT', \n",
    "    'CryoSleep_EDT', \n",
    "    'Age_EDT', \n",
    "    'Earth', 'Europa', 'Mars', \n",
    "    '55 Cancri e', 'PSO J318.5-22', 'TRAPPIST-1e', \n",
    "    'A', 'B', 'C', 'D', 'E', 'F', 'G', 'T', \n",
    "    'P', 'S', \n",
    "    'Deck_BC',\n",
    "    'KIDS',\n",
    "    'Cabin_Sleep',\n",
    "    'TODDLER',\n",
    "    'INFANT',\n",
    "    'Cabin_Awake',\n",
    "]\n",
    "y_col = 'Transported_INT'"
   ]
  },
  {
   "cell_type": "markdown",
   "id": "a9d671c6",
   "metadata": {},
   "source": [
    "<div style='font-family:\"Times New Roman\"; line-height: 2;'>\n",
    "    <h2>Finalize Dataset</h2>\n",
    "</div>"
   ]
  },
  {
   "cell_type": "markdown",
   "id": "c07c4a94",
   "metadata": {},
   "source": [
    "<div style='font-family:\"Times New Roman\"; line-height: 2;'>\n",
    "    <h3>Split Actual Train Set and Test Set</h3>\n",
    "     <p>&emsp;&emsp; Define target data and Explain data for cross-validation.</p>\n",
    "</div>"
   ]
  },
  {
   "cell_type": "code",
   "execution_count": 61,
   "id": "1f256d49",
   "metadata": {
    "deletable": false,
    "editable": false
   },
   "outputs": [],
   "source": [
    "# Back to store original dataset\n",
    "titanic_df = df"
   ]
  },
  {
   "cell_type": "code",
   "execution_count": 62,
   "id": "cc53f27e",
   "metadata": {
    "deletable": false,
    "editable": false
   },
   "outputs": [],
   "source": [
    "# setting explanatory variable(s) with most correlated x-variable\n",
    "x_data = titanic_df[ titanic_df['set'] == 'Training' ][ x_target ]\n",
    "\n",
    "# setting response variable\n",
    "y_data = titanic_df[ y_col ][ titanic_df['set']   == 'Training' ]"
   ]
  },
  {
   "cell_type": "markdown",
   "id": "8f8a6a63",
   "metadata": {},
   "source": [
    "<div style='font-family:\"Times New Roman\"; line-height: 2;'>\n",
    "    <h3>Default Logistic Regression Models Dataset</h3>\n",
    "</div>"
   ]
  },
  {
   "cell_type": "code",
   "execution_count": 63,
   "id": "c68d7dbc",
   "metadata": {
    "deletable": false,
    "editable": false
   },
   "outputs": [],
   "source": [
    "# Dataset for statsmodels\n",
    "log_data = x_data.join(y_data).drop([\n",
    "    'RoomService_EDT', 'TOTAL_SPEND', # Drop becuase Perfect Collinearity\n",
    "    'Mars', # Drop because Dummy Trap of Homeplanet\n",
    "    'TRAPPIST-1e', # Drop because Dummy Trap of Destination\n",
    "    'A', 'B', 'C', # Drop beacause dummy trap of Deck\n",
    "    'S', # Drop because dummy trap\n",
    "    'RoomService_low', 'spa_low','VRDeck_low', # Drop because dummy trap\n",
    "], axis=1)"
   ]
  },
  {
   "cell_type": "code",
   "execution_count": 64,
   "id": "17add3d9",
   "metadata": {
    "deletable": false,
    "editable": false
   },
   "outputs": [],
   "source": [
    "# Simple target variable text buider\n",
    "def getColumnListsForStats(column_list):\n",
    "    response = ''\n",
    "    for col in column_list:\n",
    "        response = response + f\"\"\"Q('{col}') + \"\"\"\n",
    "    return response[:-3]"
   ]
  },
  {
   "cell_type": "markdown",
   "id": "72542b44",
   "metadata": {},
   "source": [
    "<div style='font-family:\"Times New Roman\"; line-height: 2;'>\n",
    "    <h3>Default Logistic Regression Models Result</h3>\n",
    "</div>"
   ]
  },
  {
   "cell_type": "markdown",
   "id": "e78a3f3d",
   "metadata": {},
   "source": [
    "<div style='font-family:\"Times New Roman\"; line-height: 2;'>\n",
    "    <h5>Analysis output 6.</h5>\n",
    "    <p style='text-align: justify;'>&emsp;&emsp;[Table 7.] shows the default Logistic Regression Model result. This study excludes some features to build a default model because of perfect collinearity and dummy trap. Spend and total spend features are aggregation results of RoomService, FoodCourt, ShoppingMall, Spa, and VRDeck; as a result, these variables have perfect collinearity. The default logistic regression model performed 0.183 as R-squared, and the model is statistically significant at p &#9001; 0.05 level. Based on this default model, this study selected explanatory features in three options, one is entire features as a 'full model', second is significant features of default model as a 'significant model', other are features which have greater than 0.1 in absolute value correlation coefficient on target variable as a 'highly correlated model'. \n",
    "</p>\n",
    "</div>"
   ]
  },
  {
   "cell_type": "code",
   "execution_count": 65,
   "id": "9bd87472",
   "metadata": {
    "deletable": false,
    "editable": false
   },
   "outputs": [
    {
     "name": "stdout",
     "output_type": "stream",
     "text": [
      "\n",
      "Analysis Output 6.  \n",
      "----------------------------------------------------\n",
      "\n",
      "[Table 7. Default Logistic Regression Model Result]\n",
      "\n",
      "Optimization terminated successfully.\n",
      "         Current function value: 0.519412\n",
      "         Iterations 6\n"
     ]
    },
    {
     "data": {
      "text/html": [
       "<table class=\"simpletable\">\n",
       "<tr>\n",
       "        <td>Model:</td>              <td>Logit</td>      <td>Pseudo R-squared:</td>    <td>0.183</td>  \n",
       "</tr>\n",
       "<tr>\n",
       "  <td>Dependent Variable:</td>  <td>Transported_INT</td>       <td>AIC:</td>        <td>13547.5588</td>\n",
       "</tr>\n",
       "<tr>\n",
       "         <td>Date:</td>        <td>2023-03-11 21:40</td>       <td>BIC:</td>        <td>13823.9634</td>\n",
       "</tr>\n",
       "<tr>\n",
       "   <td>No. Observations:</td>        <td>12970</td>       <td>Log-Likelihood:</td>    <td>-6736.8</td> \n",
       "</tr>\n",
       "<tr>\n",
       "       <td>Df Model:</td>             <td>36</td>            <td>LL-Null:</td>        <td>-8249.8</td> \n",
       "</tr>\n",
       "<tr>\n",
       "     <td>Df Residuals:</td>          <td>12933</td>        <td>LLR p-value:</td>      <td>0.0000</td>  \n",
       "</tr>\n",
       "<tr>\n",
       "      <td>Converged:</td>           <td>1.0000</td>           <td>Scale:</td>         <td>1.0000</td>  \n",
       "</tr>\n",
       "<tr>\n",
       "    <td>No. Iterations:</td>        <td>6.0000</td>              <td></td>               <td></td>     \n",
       "</tr>\n",
       "</table>\n",
       "<table class=\"simpletable\">\n",
       "<tr>\n",
       "            <td></td>             <th>Coef.</th>  <th>Std.Err.</th>    <th>z</th>     <th>P>|z|</th> <th>[0.025</th>  <th>0.975]</th> \n",
       "</tr>\n",
       "<tr>\n",
       "  <th>Intercept</th>             <td>0.7155</td>   <td>0.1786</td>  <td>4.0050</td>  <td>0.0001</td> <td>0.3653</td>  <td>1.0656</td> \n",
       "</tr>\n",
       "<tr>\n",
       "  <th>Q('FoodCourt_EDT')</th>    <td>0.0002</td>   <td>0.0000</td>  <td>8.7356</td>  <td>0.0000</td> <td>0.0001</td>  <td>0.0002</td> \n",
       "</tr>\n",
       "<tr>\n",
       "  <th>Q('ShoppingMall_EDT')</th> <td>0.0003</td>   <td>0.0000</td>  <td>6.5842</td>  <td>0.0000</td> <td>0.0002</td>  <td>0.0004</td> \n",
       "</tr>\n",
       "<tr>\n",
       "  <th>Q('Spa_EDT')</th>          <td>0.0000</td>   <td>0.0001</td>  <td>0.4120</td>  <td>0.6804</td> <td>-0.0001</td> <td>0.0001</td> \n",
       "</tr>\n",
       "<tr>\n",
       "  <th>Q('VRDeck_EDT')</th>       <td>0.0001</td>   <td>0.0001</td>  <td>1.3880</td>  <td>0.1651</td> <td>-0.0000</td> <td>0.0002</td> \n",
       "</tr>\n",
       "<tr>\n",
       "  <th>Q('SPEND')</th>            <td>-0.0003</td>  <td>0.0001</td>  <td>-4.7410</td> <td>0.0000</td> <td>-0.0004</td> <td>-0.0001</td>\n",
       "</tr>\n",
       "<tr>\n",
       "  <th>Q('Zero_RoomService')</th> <td>0.0306</td>   <td>0.0655</td>  <td>0.4668</td>  <td>0.6406</td> <td>-0.0977</td> <td>0.1588</td> \n",
       "</tr>\n",
       "<tr>\n",
       "  <th>Q('RoomService_med')</th>  <td>-0.3295</td>  <td>0.0798</td>  <td>-4.1302</td> <td>0.0000</td> <td>-0.4858</td> <td>-0.1731</td>\n",
       "</tr>\n",
       "<tr>\n",
       "  <th>Q('RoomService_high')</th> <td>-0.5739</td>  <td>0.1124</td>  <td>-5.1059</td> <td>0.0000</td> <td>-0.7943</td> <td>-0.3536</td>\n",
       "</tr>\n",
       "<tr>\n",
       "  <th>Q('Zero_spa')</th>         <td>-0.0118</td>  <td>0.0636</td>  <td>-0.1858</td> <td>0.8526</td> <td>-0.1365</td> <td>0.1129</td> \n",
       "</tr>\n",
       "<tr>\n",
       "  <th>Q('spa_med')</th>          <td>-0.3361</td>  <td>0.0754</td>  <td>-4.4583</td> <td>0.0000</td> <td>-0.4839</td> <td>-0.1883</td>\n",
       "</tr>\n",
       "<tr>\n",
       "  <th>Q('spa_high')</th>         <td>-0.7660</td>  <td>0.0942</td>  <td>-8.1350</td> <td>0.0000</td> <td>-0.9506</td> <td>-0.5814</td>\n",
       "</tr>\n",
       "<tr>\n",
       "  <th>Q('Zero_VRDeck')</th>      <td>0.0995</td>   <td>0.0642</td>  <td>1.5497</td>  <td>0.1212</td> <td>-0.0264</td> <td>0.2254</td> \n",
       "</tr>\n",
       "<tr>\n",
       "  <th>Q('VRDeck_med')</th>       <td>-0.2951</td>  <td>0.0777</td>  <td>-3.7967</td> <td>0.0001</td> <td>-0.4475</td> <td>-0.1428</td>\n",
       "</tr>\n",
       "<tr>\n",
       "  <th>Q('VRDeck_high')</th>      <td>-0.8126</td>  <td>0.0957</td>  <td>-8.4940</td> <td>0.0000</td> <td>-1.0001</td> <td>-0.6251</td>\n",
       "</tr>\n",
       "<tr>\n",
       "  <th>Q('VIP_EDT')</th>          <td>-0.1769</td>  <td>0.1406</td>  <td>-1.2575</td> <td>0.2086</td> <td>-0.4525</td> <td>0.0988</td> \n",
       "</tr>\n",
       "<tr>\n",
       "  <th>Q('PassengerId_B')</th>    <td>-0.0253</td>  <td>0.0255</td>  <td>-0.9897</td> <td>0.3223</td> <td>-0.0753</td> <td>0.0248</td> \n",
       "</tr>\n",
       "<tr>\n",
       "  <th>Q('GROUP_YN')</th>         <td>0.0762</td>   <td>0.0581</td>  <td>1.3109</td>  <td>0.1899</td> <td>-0.0377</td> <td>0.1900</td> \n",
       "</tr>\n",
       "<tr>\n",
       "  <th>Q('Cabin_B_EDT')</th>      <td>0.0001</td>   <td>0.0001</td>  <td>2.5503</td>  <td>0.0108</td> <td>0.0000</td>  <td>0.0002</td> \n",
       "</tr>\n",
       "<tr>\n",
       "  <th>Q('CryoSleep_EDT')</th>    <td>1.0502</td>   <td>0.1107</td>  <td>9.4916</td>  <td>0.0000</td> <td>0.8334</td>  <td>1.2671</td> \n",
       "</tr>\n",
       "<tr>\n",
       "  <th>Q('Age_EDT')</th>          <td>-0.0026</td>  <td>0.0019</td>  <td>-1.3346</td> <td>0.1820</td> <td>-0.0064</td> <td>0.0012</td> \n",
       "</tr>\n",
       "<tr>\n",
       "  <th>Q('Earth')</th>            <td>-0.2417</td>  <td>0.0684</td>  <td>-3.5325</td> <td>0.0004</td> <td>-0.3758</td> <td>-0.1076</td>\n",
       "</tr>\n",
       "<tr>\n",
       "  <th>Q('Europa')</th>           <td>0.6123</td>   <td>0.1229</td>  <td>4.9835</td>  <td>0.0000</td> <td>0.3715</td>  <td>0.8532</td> \n",
       "</tr>\n",
       "<tr>\n",
       "  <th>Q('55 Cancri e')</th>      <td>0.1676</td>   <td>0.0589</td>  <td>2.8436</td>  <td>0.0045</td> <td>0.0521</td>  <td>0.2831</td> \n",
       "</tr>\n",
       "<tr>\n",
       "  <th>Q('PSO J318.5-22')</th>    <td>-0.0419</td>  <td>0.0736</td>  <td>-0.5698</td> <td>0.5688</td> <td>-0.1862</td> <td>0.1023</td> \n",
       "</tr>\n",
       "<tr>\n",
       "  <th>Q('D')</th>                <td>0.2577</td>   <td>0.1412</td>  <td>1.8252</td>  <td>0.0680</td> <td>-0.0190</td> <td>0.5345</td> \n",
       "</tr>\n",
       "<tr>\n",
       "  <th>Q('E')</th>                <td>0.1152</td>   <td>0.1312</td>  <td>0.8778</td>  <td>0.3800</td> <td>-0.1420</td> <td>0.3724</td> \n",
       "</tr>\n",
       "<tr>\n",
       "  <th>Q('F')</th>                <td>0.3564</td>   <td>0.1298</td>  <td>2.7459</td>  <td>0.0060</td> <td>0.1020</td>  <td>0.6108</td> \n",
       "</tr>\n",
       "<tr>\n",
       "  <th>Q('G')</th>                <td>-0.0994</td>  <td>0.1326</td>  <td>-0.7492</td> <td>0.4537</td> <td>-0.3593</td> <td>0.1606</td> \n",
       "</tr>\n",
       "<tr>\n",
       "  <th>Q('T')</th>                <td>0.7704</td>   <td>0.7103</td>  <td>1.0845</td>  <td>0.2781</td> <td>-0.6218</td> <td>2.1626</td> \n",
       "</tr>\n",
       "<tr>\n",
       "  <th>Q('P')</th>                <td>-0.3595</td>  <td>0.0426</td>  <td>-8.4377</td> <td>0.0000</td> <td>-0.4430</td> <td>-0.2760</td>\n",
       "</tr>\n",
       "<tr>\n",
       "  <th>Q('Deck_BC')</th>          <td>0.7557</td>   <td>0.1261</td>  <td>5.9913</td>  <td>0.0000</td> <td>0.5085</td>  <td>1.0029</td> \n",
       "</tr>\n",
       "<tr>\n",
       "  <th>Q('KIDS')</th>             <td>0.0137</td>   <td>0.0768</td>  <td>0.1782</td>  <td>0.8586</td> <td>-0.1369</td> <td>0.1643</td> \n",
       "</tr>\n",
       "<tr>\n",
       "  <th>Q('Cabin_Sleep')</th>      <td>0.0865</td>   <td>0.1097</td>  <td>0.7881</td>  <td>0.4307</td> <td>-0.1286</td> <td>0.3016</td> \n",
       "</tr>\n",
       "<tr>\n",
       "  <th>Q('TODDLER')</th>          <td>0.1679</td>   <td>0.1365</td>  <td>1.2301</td>  <td>0.2186</td> <td>-0.0996</td> <td>0.4355</td> \n",
       "</tr>\n",
       "<tr>\n",
       "  <th>Q('INFANT')</th>           <td>0.8683</td>   <td>0.2023</td>  <td>4.2928</td>  <td>0.0000</td> <td>0.4719</td>  <td>1.2648</td> \n",
       "</tr>\n",
       "<tr>\n",
       "  <th>Q('Cabin_Awake')</th>      <td>-0.0047</td>  <td>0.0768</td>  <td>-0.0605</td> <td>0.9517</td> <td>-0.1552</td> <td>0.1459</td> \n",
       "</tr>\n",
       "</table>"
      ],
      "text/plain": [
       "<class 'statsmodels.iolib.summary2.Summary'>\n",
       "\"\"\"\n",
       "                           Results: Logit\n",
       "=====================================================================\n",
       "Model:                Logit             Pseudo R-squared:  0.183     \n",
       "Dependent Variable:   Transported_INT   AIC:               13547.5588\n",
       "Date:                 2023-03-11 21:40  BIC:               13823.9634\n",
       "No. Observations:     12970             Log-Likelihood:    -6736.8   \n",
       "Df Model:             36                LL-Null:           -8249.8   \n",
       "Df Residuals:         12933             LLR p-value:       0.0000    \n",
       "Converged:            1.0000            Scale:             1.0000    \n",
       "No. Iterations:       6.0000                                         \n",
       "---------------------------------------------------------------------\n",
       "                       Coef.  Std.Err.    z    P>|z|   [0.025  0.975]\n",
       "---------------------------------------------------------------------\n",
       "Intercept              0.7155   0.1786  4.0050 0.0001  0.3653  1.0656\n",
       "Q('FoodCourt_EDT')     0.0002   0.0000  8.7356 0.0000  0.0001  0.0002\n",
       "Q('ShoppingMall_EDT')  0.0003   0.0000  6.5842 0.0000  0.0002  0.0004\n",
       "Q('Spa_EDT')           0.0000   0.0001  0.4120 0.6804 -0.0001  0.0001\n",
       "Q('VRDeck_EDT')        0.0001   0.0001  1.3880 0.1651 -0.0000  0.0002\n",
       "Q('SPEND')            -0.0003   0.0001 -4.7410 0.0000 -0.0004 -0.0001\n",
       "Q('Zero_RoomService')  0.0306   0.0655  0.4668 0.6406 -0.0977  0.1588\n",
       "Q('RoomService_med')  -0.3295   0.0798 -4.1302 0.0000 -0.4858 -0.1731\n",
       "Q('RoomService_high') -0.5739   0.1124 -5.1059 0.0000 -0.7943 -0.3536\n",
       "Q('Zero_spa')         -0.0118   0.0636 -0.1858 0.8526 -0.1365  0.1129\n",
       "Q('spa_med')          -0.3361   0.0754 -4.4583 0.0000 -0.4839 -0.1883\n",
       "Q('spa_high')         -0.7660   0.0942 -8.1350 0.0000 -0.9506 -0.5814\n",
       "Q('Zero_VRDeck')       0.0995   0.0642  1.5497 0.1212 -0.0264  0.2254\n",
       "Q('VRDeck_med')       -0.2951   0.0777 -3.7967 0.0001 -0.4475 -0.1428\n",
       "Q('VRDeck_high')      -0.8126   0.0957 -8.4940 0.0000 -1.0001 -0.6251\n",
       "Q('VIP_EDT')          -0.1769   0.1406 -1.2575 0.2086 -0.4525  0.0988\n",
       "Q('PassengerId_B')    -0.0253   0.0255 -0.9897 0.3223 -0.0753  0.0248\n",
       "Q('GROUP_YN')          0.0762   0.0581  1.3109 0.1899 -0.0377  0.1900\n",
       "Q('Cabin_B_EDT')       0.0001   0.0001  2.5503 0.0108  0.0000  0.0002\n",
       "Q('CryoSleep_EDT')     1.0502   0.1107  9.4916 0.0000  0.8334  1.2671\n",
       "Q('Age_EDT')          -0.0026   0.0019 -1.3346 0.1820 -0.0064  0.0012\n",
       "Q('Earth')            -0.2417   0.0684 -3.5325 0.0004 -0.3758 -0.1076\n",
       "Q('Europa')            0.6123   0.1229  4.9835 0.0000  0.3715  0.8532\n",
       "Q('55 Cancri e')       0.1676   0.0589  2.8436 0.0045  0.0521  0.2831\n",
       "Q('PSO J318.5-22')    -0.0419   0.0736 -0.5698 0.5688 -0.1862  0.1023\n",
       "Q('D')                 0.2577   0.1412  1.8252 0.0680 -0.0190  0.5345\n",
       "Q('E')                 0.1152   0.1312  0.8778 0.3800 -0.1420  0.3724\n",
       "Q('F')                 0.3564   0.1298  2.7459 0.0060  0.1020  0.6108\n",
       "Q('G')                -0.0994   0.1326 -0.7492 0.4537 -0.3593  0.1606\n",
       "Q('T')                 0.7704   0.7103  1.0845 0.2781 -0.6218  2.1626\n",
       "Q('P')                -0.3595   0.0426 -8.4377 0.0000 -0.4430 -0.2760\n",
       "Q('Deck_BC')           0.7557   0.1261  5.9913 0.0000  0.5085  1.0029\n",
       "Q('KIDS')              0.0137   0.0768  0.1782 0.8586 -0.1369  0.1643\n",
       "Q('Cabin_Sleep')       0.0865   0.1097  0.7881 0.4307 -0.1286  0.3016\n",
       "Q('TODDLER')           0.1679   0.1365  1.2301 0.2186 -0.0996  0.4355\n",
       "Q('INFANT')            0.8683   0.2023  4.2928 0.0000  0.4719  1.2648\n",
       "Q('Cabin_Awake')      -0.0047   0.0768 -0.0605 0.9517 -0.1552  0.1459\n",
       "=====================================================================\n",
       "\n",
       "\"\"\""
      ]
     },
     "execution_count": 65,
     "metadata": {},
     "output_type": "execute_result"
    }
   ],
   "source": [
    "import statsmodels.formula.api as smf\n",
    "\n",
    "# Run Logit\n",
    "model = smf.logit(data=df, formula=f\"\"\"{y_col} ~ {getColumnListsForStats(log_data.drop(y_col, axis=1).columns.tolist())}\"\"\")\n",
    "print(f\"\"\"\n",
    "Analysis Output 6.  \n",
    "----------------------------------------------------\n",
    "\n",
    "[Table 7. Default Logistic Regression Model Result]\n",
    "\"\"\")\n",
    "# Check summary\n",
    "model.fit().summary2()"
   ]
  },
  {
   "cell_type": "markdown",
   "id": "4526a26a",
   "metadata": {},
   "source": [
    "<div style='font-family:\"Times New Roman\"; line-height: 2;'>\n",
    "    <h2>Run Model</h2>\n",
    "</div>"
   ]
  },
  {
   "cell_type": "markdown",
   "id": "19c6ab39",
   "metadata": {},
   "source": [
    "<div style='font-family:\"Times New Roman\"; line-height: 2;'>\n",
    "    <h3>Trains-Test split from Train set</h3>\n",
    "</div>"
   ]
  },
  {
   "cell_type": "code",
   "execution_count": 66,
   "id": "ef5cab0e",
   "metadata": {
    "deletable": false,
    "editable": false
   },
   "outputs": [],
   "source": [
    "from sklearn.preprocessing import StandardScaler\n",
    "# developing training and validation sets\n",
    "x_train, x_test, y_train, y_test = train_test_split(\n",
    "    x_data, \n",
    "    y_data, \n",
    "    random_state=219, \n",
    "    test_size=0.25,\n",
    "    stratify=y_data,\n",
    ")\n",
    "\n",
    "# INSTANTIATING StandardScaler()\n",
    "scaler = StandardScaler()\n",
    "\n",
    "# FITTING the data\n",
    "scaler.fit(x_data)\n",
    "\n",
    "# TRANSFORMING the data\n",
    "x_scaled     = scaler.transform(x_data)\n",
    "\n",
    "# converting to a DataFrame\n",
    "x_scaled_df  = pd.DataFrame(x_scaled, columns=x_data.columns) \n",
    "\n",
    "# train-test split with the scaled data\n",
    "x_train_scaled, x_test_scaled, y_train_scaled, y_test_scaled = train_test_split(\n",
    "            x_scaled_df,\n",
    "            y_data,\n",
    "            random_state = 219,\n",
    "            test_size    = 0.25,\n",
    "            stratify     = y_data)"
   ]
  },
  {
   "cell_type": "markdown",
   "id": "e22cb9da",
   "metadata": {},
   "source": [
    "<div style='font-family:\"Times New Roman\"; line-height: 2;'>\n",
    "    <h3>Model Compare</h3>\n",
    "    <h4>Random Forest Classifier</h4>\n",
    "    <p><b>Hyper Parameter Tuning</b></p>\n",
    "</div>"
   ]
  },
  {
   "cell_type": "code",
   "execution_count": 67,
   "id": "a5c85fe4",
   "metadata": {
    "deletable": false,
    "editable": false
   },
   "outputs": [],
   "source": [
    "# Set parameter range\n",
    "# Actual parameters are actual record of total parameters, \n",
    "# Put only few parameters because of running time. \n",
    "params = {\n",
    "    'criterion': ['gini', 'entropy'],\n",
    "    'min_samples_leaf': \n",
    "        #[23, 24, 26], \n",
    "        range(15, 101, 1), # Actual \n",
    "    'n_estimators': \n",
    "        #[93, 177], \n",
    "        range(50, 451, 1),# Actual\n",
    "    'max_depth': \n",
    "        #[3, 4], \n",
    "        range(1, 9, 1), # Actual\n",
    "    'min_samples_split': \n",
    "        #[7, 16],\n",
    "        range(2, 21, 1), # Actual\n",
    "    'warm_start': [False, True],\n",
    "}"
   ]
  },
  {
   "cell_type": "markdown",
   "id": "4c1e1339",
   "metadata": {},
   "source": [
    "<div style='font-family:\"Times New Roman\"; line-height: 2;'>\n",
    "    <p><b>Cross-Validation</b></p>\n",
    "</div>"
   ]
  },
  {
   "cell_type": "code",
   "execution_count": 68,
   "id": "1a26c91f",
   "metadata": {
    "cell_style": "split",
    "deletable": false,
    "editable": false
   },
   "outputs": [
    {
     "name": "stdout",
     "output_type": "stream",
     "text": [
      "{'warm_start': True, 'n_estimators': 218, 'min_samples_split': 19, 'min_samples_leaf': 23, 'max_depth': 8, 'criterion': 'entropy'}\n",
      "0.8747774577031703\n"
     ]
    }
   ],
   "source": [
    "# RandomForestClassifier CV in Original Scaled X\n",
    "tuned_model = RandomForestClassifier()\n",
    "\n",
    "# Cross-Validating\n",
    "model_cv = RandomizedSearchCV(\n",
    "                    estimator=tuned_model,\n",
    "                    param_distributions=params,\n",
    "                    cv = 4,\n",
    "                    scoring='roc_auc',\n",
    "                    n_iter= \n",
    "                        10, \n",
    "                        #2000, # Actual\n",
    ")\n",
    "# Fit\n",
    "model_cv.fit(x_data, y_data)\n",
    "\n",
    "# Check best Params and score\n",
    "print(model_cv.best_params_)\n",
    "print(model_cv.best_score_)"
   ]
  },
  {
   "cell_type": "code",
   "execution_count": 69,
   "id": "37f3ac4c",
   "metadata": {
    "cell_style": "split",
    "deletable": false,
    "editable": false
   },
   "outputs": [
    {
     "name": "stdout",
     "output_type": "stream",
     "text": [
      "{'warm_start': True, 'n_estimators': 405, 'min_samples_split': 5, 'min_samples_leaf': 51, 'max_depth': 6, 'criterion': 'entropy'}\n",
      "0.8636250253066924\n"
     ]
    }
   ],
   "source": [
    "# RandomForestClassifier CV in Standaard Scaled X\n",
    "tuned_model = RandomForestClassifier()\n",
    "\n",
    "# Cross-Validating\n",
    "model_cv_scaled = RandomizedSearchCV(\n",
    "                    estimator=tuned_model,\n",
    "                    param_distributions=params,\n",
    "                    cv = 4,\n",
    "                    scoring='roc_auc',\n",
    "                    n_iter= \n",
    "                        10, \n",
    "                        #2000, # Actual\n",
    ")\n",
    "\n",
    "# Fit\n",
    "model_cv_scaled.fit(x_scaled_df, y_data)\n",
    "\n",
    "# Check best Params and score\n",
    "print(model_cv_scaled.best_params_)\n",
    "print(model_cv_scaled.best_score_)"
   ]
  },
  {
   "cell_type": "markdown",
   "id": "2e4b5b85",
   "metadata": {},
   "source": [
    "<div style='font-family:\"Times New Roman\"; line-height: 2;'>\n",
    "   <p><b>Best Parameter Results</b></p>\n",
    "</div>"
   ]
  },
  {
   "cell_type": "code",
   "execution_count": 70,
   "id": "663bdf0e",
   "metadata": {
    "cell_style": "split",
    "deletable": false,
    "editable": false
   },
   "outputs": [
    {
     "name": "stdout",
     "output_type": "stream",
     "text": [
      "\n",
      "Train Score    : 0.8075\n",
      "Test Score     : 0.787\n",
      "Train-Test Gap : 0.0205\n",
      "AUC Score      : 0.7888 - Threshold: 0.45\n",
      "\n",
      "Confusion Matrix\n",
      "====================\n",
      "\n",
      "[[777 302]\n",
      " [156 939]]\n",
      "\n",
      "True Negatives : 777\n",
      "False Positives: 302\n",
      "False Negatives: 156\n",
      "True Positives : 939\n",
      "\n"
     ]
    }
   ],
   "source": [
    "# Model Name\n",
    "model_name = 'RandomForestClassifier with Original Scaled X'\n",
    "\n",
    "# Model Declare with Best Params\n",
    "model = RandomForestClassifier(\n",
    "                            criterion=model_cv.best_params_['criterion'],\n",
    "                            random_state=219,\n",
    "                            min_samples_leaf=model_cv.best_params_['min_samples_leaf'], \n",
    "                            n_estimators = model_cv.best_params_['n_estimators'],\n",
    "                            max_depth=model_cv.best_params_['max_depth'],\n",
    "                            min_samples_split=model_cv.best_params_['min_samples_split'],\n",
    "                            warm_start=model_cv.best_params_['warm_start'],\n",
    "                            )\n",
    "# Fit\n",
    "model.fit(x_train, y_train)\n",
    "# Model Predicted Value\n",
    "model_pred = model.predict(x_test)\n",
    "# Train Score\n",
    "train_score = model.score(x_train, y_train)\n",
    "# Test Score\n",
    "test_score = model.score(x_test, y_test)\n",
    "# Test-Train Gap\n",
    "gap = abs(test_score - train_score)\n",
    "\n",
    "# Calculating and searching for best threshold\n",
    "threshold = mostFittedThreshold(y_test, model.predict_proba(x_test))\n",
    "\n",
    "# Searched AUC Score\n",
    "auc = threshold['AUC_SCORE']\n",
    "\n",
    "# Printing Records\n",
    "print(f\"\"\"\n",
    "Train Score    : {train_score.round(4)}\n",
    "Test Score     : {test_score.round(4)}\n",
    "Train-Test Gap : {gap.round(4)}\n",
    "AUC Score      : {auc.round(4)} - Threshold: {threshold['Threshold']}\n",
    "\n",
    "Confusion Matrix\n",
    "====================\n",
    "\"\"\")\n",
    "print(threshold['Confusion_matrix'])\n",
    "\n",
    "model_tn, \\\n",
    "model_fp, \\\n",
    "model_fn, \\\n",
    "model_tp = threshold['Confusion_matrix'].ravel()\n",
    "\n",
    "print(f\"\"\"\n",
    "True Negatives : {model_tn}\n",
    "False Positives: {model_fp}\n",
    "False Negatives: {model_fn}\n",
    "True Positives : {model_tp}\n",
    "\"\"\")\n"
   ]
  },
  {
   "cell_type": "code",
   "execution_count": 71,
   "id": "8152ca5f",
   "metadata": {
    "cell_style": "split",
    "deletable": false,
    "editable": false
   },
   "outputs": [
    {
     "name": "stdout",
     "output_type": "stream",
     "text": [
      "\n",
      "Train Score    : 0.7964\n",
      "Test Score     : 0.7833\n",
      "Train-Test Gap : 0.0131\n",
      "AUC Score      : 0.7866 - Threshold: 0.46\n",
      "\n",
      "Confusion Matrix\n",
      "====================\n",
      "\n",
      "[[783 296]\n",
      " [167 928]]\n",
      "\n",
      "True Negatives : 783\n",
      "False Positives: 296\n",
      "False Negatives: 167\n",
      "True Positives : 928\n",
      "\n"
     ]
    }
   ],
   "source": [
    "# Model Name\n",
    "model_name = 'RandomForestClassifier with Standard Scaled X'\n",
    "\n",
    "# Model Declare with Best Params\n",
    "model = RandomForestClassifier(\n",
    "                            criterion=model_cv_scaled.best_params_['criterion'],\n",
    "                            random_state=219,\n",
    "                            min_samples_leaf=model_cv_scaled.best_params_['min_samples_leaf'], \n",
    "                            n_estimators = model_cv_scaled.best_params_['n_estimators'],\n",
    "                            max_depth=model_cv_scaled.best_params_['max_depth'],\n",
    "                            min_samples_split=model_cv_scaled.best_params_['min_samples_split'],\n",
    "                            warm_start=model_cv_scaled.best_params_['warm_start'],\n",
    "                            )\n",
    "# Fit\n",
    "model.fit(x_train_scaled, y_train_scaled)\n",
    "# Model Predicted Value\n",
    "model_pred = model.predict(x_test_scaled)\n",
    "# Train Score\n",
    "train_score = model.score(x_train_scaled, y_train_scaled)\n",
    "# Test Score\n",
    "test_score = model.score(x_test_scaled, y_test_scaled)\n",
    "# Test-Train Gap\n",
    "gap = abs(test_score - train_score)\n",
    "\n",
    "# Calculating and searching for best threshold\n",
    "threshold = mostFittedThreshold(y_test_scaled, model.predict_proba(x_test_scaled))\n",
    "\n",
    "# Searched AUC Score\n",
    "auc = threshold['AUC_SCORE']\n",
    "\n",
    "# Printing Records\n",
    "print(f\"\"\"\n",
    "Train Score    : {train_score.round(4)}\n",
    "Test Score     : {test_score.round(4)}\n",
    "Train-Test Gap : {gap.round(4)}\n",
    "AUC Score      : {auc.round(4)} - Threshold: {threshold['Threshold']}\n",
    "\n",
    "Confusion Matrix\n",
    "====================\n",
    "\"\"\")\n",
    "print(threshold['Confusion_matrix'])\n",
    "\n",
    "model_tn, \\\n",
    "model_fp, \\\n",
    "model_fn, \\\n",
    "model_tp = threshold['Confusion_matrix'].ravel()\n",
    "\n",
    "print(f\"\"\"\n",
    "True Negatives : {model_tn}\n",
    "False Positives: {model_fp}\n",
    "False Negatives: {model_fn}\n",
    "True Positives : {model_tp}\n",
    "\"\"\")"
   ]
  },
  {
   "cell_type": "markdown",
   "id": "1a749234",
   "metadata": {},
   "source": [
    "<div style='font-family:\"Times New Roman\"; line-height: 2;'>\n",
    "    <h4>Gradient Boosting Classifier</h4>\n",
    "    <p><b>Hyper Parameter Tuning</b></p>\n",
    "</div>"
   ]
  },
  {
   "cell_type": "code",
   "execution_count": 72,
   "id": "27c5a3fd",
   "metadata": {
    "deletable": false,
    "editable": false
   },
   "outputs": [],
   "source": [
    "# Set parameter range\n",
    "# Actual parameters are actual record of total parameters, \n",
    "# Put only few parameters because of running time. \n",
    "params = {\n",
    "    'loss': ['deviance', 'exponential'],\n",
    "    'learning_rate': \n",
    "            #[0.15], \n",
    "            [0.1, 0.15, 0.2, 0.25], # Actual\n",
    "    'criterion': ['friedman_mse', 'squared_error'],\n",
    "    'min_samples_leaf': \n",
    "            #[276, 280], \n",
    "            range(15, 151, 1), # Actual\n",
    "    'n_estimators': \n",
    "            #[304, 310],  \n",
    "            range(20, 351, 1), # Actual \n",
    "    'max_depth': \n",
    "            #[1, 2, 3],\n",
    "            range(1, 9, 1), # Actual\n",
    "    'min_samples_split': \n",
    "            #[9, 10],\n",
    "            range(2, 51, 1), # Actual \n",
    "    'max_features': ['auto', None,  8, 9, 10, 11, 12],\n",
    "}"
   ]
  },
  {
   "cell_type": "markdown",
   "id": "008d5117",
   "metadata": {},
   "source": [
    "<div style='font-family:\"Times New Roman\"; line-height: 2;'>\n",
    "    <p><b>Cross-Validation</b></p>\n",
    "</div>"
   ]
  },
  {
   "cell_type": "code",
   "execution_count": 73,
   "id": "08a1e52f",
   "metadata": {
    "deletable": false,
    "editable": false
   },
   "outputs": [
    {
     "name": "stdout",
     "output_type": "stream",
     "text": [
      "{'n_estimators': 120, 'min_samples_split': 19, 'min_samples_leaf': 56, 'max_features': None, 'max_depth': 3, 'loss': 'deviance', 'learning_rate': 0.15, 'criterion': 'squared_error'}\n",
      "0.8896655551007028\n"
     ]
    }
   ],
   "source": [
    "# Gradient Boosting Classifier CV in Original Scaled X\n",
    "tuned_model = GradientBoostingClassifier()\n",
    "\n",
    "# Cross-Validating\n",
    "model_cv = RandomizedSearchCV(\n",
    "                    estimator=tuned_model,\n",
    "                    param_distributions=params,\n",
    "                    cv = 4,\n",
    "                    scoring='roc_auc',\n",
    "                    n_iter= \n",
    "                        5,\n",
    "                        #2000, # Actual\n",
    ")\n",
    "# Fit\n",
    "model_cv.fit(x_data, y_data)\n",
    "\n",
    "# Check best Params and score\n",
    "print(model_cv.best_params_)\n",
    "print(model_cv.best_score_)"
   ]
  },
  {
   "cell_type": "markdown",
   "id": "1eba657a",
   "metadata": {},
   "source": [
    "<div style='font-family:\"Times New Roman\"; line-height: 2;'>\n",
    "    <p><b>Best Parameter Result</b></p>\n",
    "</div>"
   ]
  },
  {
   "cell_type": "code",
   "execution_count": 74,
   "id": "71e33daf",
   "metadata": {
    "deletable": false,
    "editable": false
   },
   "outputs": [],
   "source": [
    "# This study's Best Params\n",
    "model_cv.best_params_={\n",
    "    'loss'              : 'exponential',\n",
    "    'learning_rate'       : 0.1,\n",
    "    'criterion'           : 'friedman_mse',\n",
    "    'min_samples_leaf'    : 50, \n",
    "    'n_estimators'        : 100,\n",
    "    'max_depth'           : 4,\n",
    "    'min_samples_split'   : 12,\n",
    "    'max_features'        : 9,\n",
    "}"
   ]
  },
  {
   "cell_type": "code",
   "execution_count": 75,
   "id": "356af3a5",
   "metadata": {
    "deletable": false,
    "editable": false
   },
   "outputs": [
    {
     "name": "stdout",
     "output_type": "stream",
     "text": [
      "\n",
      "Train Score    : 0.8317\n",
      "Test Score     : 0.7967\n",
      "Train-Test Gap : 0.035\n",
      "AUC Score      : 0.8015 - Threshold: 0.47\n",
      "\n",
      "Confusion Matrix\n",
      "====================\n",
      "\n",
      "[[832 247]\n",
      " [184 911]]\n",
      "\n",
      "True Negatives : 832\n",
      "False Positives: 247\n",
      "False Negatives: 184\n",
      "True Positives : 911\n",
      "\n"
     ]
    }
   ],
   "source": [
    "# Model Name\n",
    "model_name = 'GBM with Original Scaled Full X'\n",
    "\n",
    "# Model Declare with Best Params\n",
    "model = GradientBoostingClassifier(\n",
    "                            loss = model_cv.best_params_['loss'],\n",
    "                            learning_rate = model_cv.best_params_['learning_rate'],\n",
    "                            criterion=model_cv.best_params_['criterion'],\n",
    "                            min_samples_leaf=model_cv.best_params_['min_samples_leaf'], \n",
    "                            n_estimators = model_cv.best_params_['n_estimators'],\n",
    "                            max_depth=model_cv.best_params_['max_depth'],\n",
    "                            min_samples_split=model_cv.best_params_['min_samples_split'],\n",
    "                            max_features= model_cv.best_params_['max_features'],\n",
    "                            random_state=219,\n",
    "                            )\n",
    "# Fit\n",
    "model.fit(x_train, y_train)\n",
    "# Model Predicted Value\n",
    "model_pred = model.predict(x_test)\n",
    "# Train Score\n",
    "train_score = model.score(x_train, y_train)\n",
    "# Test Score\n",
    "test_score = model.score(x_test, y_test)\n",
    "# Test-Train Gap\n",
    "gap = abs(test_score - train_score)\n",
    "\n",
    "# Calculating and searching for best threshold\n",
    "threshold = mostFittedThreshold(y_test, model.predict_proba(x_test))\n",
    "\n",
    "# Searched AUC Score\n",
    "auc = threshold['AUC_SCORE']\n",
    "\n",
    "# Printing Records\n",
    "print(f\"\"\"\n",
    "Train Score    : {train_score.round(4)}\n",
    "Test Score     : {test_score.round(4)}\n",
    "Train-Test Gap : {gap.round(4)}\n",
    "AUC Score      : {auc.round(4)} - Threshold: {threshold['Threshold']}\n",
    "\n",
    "Confusion Matrix\n",
    "====================\n",
    "\"\"\")\n",
    "print(threshold['Confusion_matrix'])\n",
    "\n",
    "model_tn, \\\n",
    "model_fp, \\\n",
    "model_fn, \\\n",
    "model_tp = threshold['Confusion_matrix'].ravel()\n",
    "\n",
    "print(f\"\"\"\n",
    "True Negatives : {model_tn}\n",
    "False Positives: {model_fp}\n",
    "False Negatives: {model_fn}\n",
    "True Positives : {model_tp}\n",
    "\"\"\")"
   ]
  },
  {
   "cell_type": "markdown",
   "id": "db70c388",
   "metadata": {},
   "source": [
    "<div style='font-family:\"Times New Roman\"; line-height: 2;'>\n",
    "    <h3>Best Fitted Model - Gradient Boosting Classifier</h3>\n",
    "</div>"
   ]
  },
  {
   "cell_type": "code",
   "execution_count": 76,
   "id": "5734ac28",
   "metadata": {
    "cell_style": "center",
    "deletable": false,
    "editable": false
   },
   "outputs": [],
   "source": [
    "# Model Name\n",
    "model_name = 'GBM with Original Scaled Full X'\n",
    "\n",
    "# Model Declare with Best Params\n",
    "model = GradientBoostingClassifier(\n",
    "    loss                = 'exponential',\n",
    "    learning_rate       = 0.1,\n",
    "    criterion           = 'friedman_mse',\n",
    "    min_samples_leaf    = 50, \n",
    "    n_estimators        = 100,\n",
    "    max_depth           = 4,\n",
    "    min_samples_split   = 12,\n",
    "    max_features        = 9,\n",
    "    random_state        = 219,\n",
    "    warm_start          = False,\n",
    "    )\n",
    "# Fit\n",
    "model.fit(x_train, y_train)\n",
    "# Model Predicted Value\n",
    "model_pred = model.predict(x_test)\n",
    "# Train Score\n",
    "train_score = model.score(x_train, y_train)\n",
    "# Test Score\n",
    "test_score = model.score(x_test, y_test)\n",
    "# Test-Train Gap\n",
    "gap = abs(test_score - train_score)\n",
    "\n",
    "auc = roc_auc_score(y_test, model_pred)\n",
    "\n",
    "# Calculating and searching for best threshold\n",
    "threshold = mostFittedThreshold(y_test, model.predict_proba(x_test))\n",
    "\n",
    "# Searched AUC Score\n",
    "auc = threshold['AUC_SCORE']"
   ]
  },
  {
   "cell_type": "markdown",
   "id": "cfa851f9",
   "metadata": {},
   "source": [
    "<div style='font-family:\"Times New Roman\"; line-height: 2;'>\n",
    "    <h5>Analysis output 7.</h5>\n",
    "    <p style='text-align: justify;'>&emsp;&emsp;This study was performed to estimate the target variable through five classification models (Logistic Regression, Decision Tree Classifier, Random Forest Classifier, Gradient Boosting Classifier, and K-Neifborhood Classifier) with three explanatory variable groups. [Table 8.] shows that the Gradient Boosting Classifier Model (hereafter GBM) results in one of the best-fitted models, which gets the highest area under the curve (hereafter AUC) score. GBM estimated the target variable in the training dataset after training, performing 0.8317 as the Accuracy Score and 0.7967 as the test dataset accuracy score. The train and test score gap was 0.035, which has less than 0.05, and it means this model’s stability has not much problem. In addition, our model’s AUC score was 0.8015 when threshold was 0.47, which means that our model could correctly estimate 80.15% of passengers’ transported status in test dataset. Consequently, our model predicted 911 transported passengers, 832 not transported passengers of total 2,174 passengers in test dataset. </p>\n",
    "</div>"
   ]
  },
  {
   "cell_type": "code",
   "execution_count": 77,
   "id": "97780a94",
   "metadata": {
    "deletable": false,
    "editable": false
   },
   "outputs": [
    {
     "name": "stdout",
     "output_type": "stream",
     "text": [
      "\n",
      "Analysis Output 7.  \n",
      "----------------------------------------------------\n",
      "\n",
      "[Table 8. Gradient Boosting Classifier Model Result]\n",
      "\n",
      "\n",
      "Best Fitted Model Result\n",
      "============================================================\n",
      "Model Name     : GBM with Original Scaled Full X\n",
      "Train Accuracy : 0.8317\n",
      "Test Accuracy  : 0.7967\n",
      "Train-Test Gap : 0.035\n",
      "AUC Score      : 0.8015 - Threshold: 0.47\n",
      "\n",
      "\n",
      "\n",
      "<Chart 3. Confusion Matrix of Model>\n",
      "==========================================================\n",
      "True Negatives : 832  \tFalse Positives: 247\n",
      "False Negatives: 184  \tTrue Positives : 911\n",
      "\n"
     ]
    },
    {
     "data": {
      "image/png": "[encoded data removed]",
      "text/plain": [
       "<Figure size 640x480 with 2 Axes>"
      ]
     },
     "metadata": {},
     "output_type": "display_data"
    }
   ],
   "source": [
    "print(f\"\"\"\n",
    "Analysis Output 7.  \n",
    "----------------------------------------------------\n",
    "\n",
    "[Table 8. Gradient Boosting Classifier Model Result]\n",
    "\"\"\")\n",
    "# Printing Records\n",
    "print(f\"\"\"\n",
    "Best Fitted Model Result\n",
    "============================================================\n",
    "Model Name     : {model_name}\n",
    "Train Accuracy : {train_score.round(4)}\n",
    "Test Accuracy  : {test_score.round(4)}\n",
    "Train-Test Gap : {gap.round(4)}\n",
    "AUC Score      : {auc.round(4)} - Threshold: {threshold['Threshold']}\n",
    "\n",
    "\n",
    "\n",
    "<Chart 3. Confusion Matrix of Model>\n",
    "==========================================================\"\"\")\n",
    "model_tn, \\\n",
    "model_fp, \\\n",
    "model_fn, \\\n",
    "model_tp = threshold['Confusion_matrix'].ravel()\n",
    "\n",
    "print(f\"\"\"True Negatives : {model_tn}  \\tFalse Positives: {model_fp}\n",
    "False Negatives: {model_fn}  \\tTrue Positives : {model_tp}\n",
    "\"\"\")\n",
    "\n",
    "sns.heatmap(threshold['Confusion_matrix'],\n",
    "                annot       = True,\n",
    "                xticklabels = ['Not Transported', 'Transported'],\n",
    "                yticklabels = ['Not Transported', 'Transported'],\n",
    "                cmap        = 'Blues',\n",
    "                fmt         = 'g')\n",
    "plt.xlabel('Predicted')\n",
    "plt.ylabel('Actual')\n",
    "plt.title(f\"Confusion Matrix of {model_name}\")\n",
    "plt.show()"
   ]
  },
  {
   "cell_type": "markdown",
   "id": "e32d548c",
   "metadata": {},
   "source": [
    "<div style='font-family:\"Times New Roman\"; line-height: 2;'>\n",
    "    <h2>Prediction</h2>\n",
    "</div>"
   ]
  },
  {
   "cell_type": "markdown",
   "id": "5f5ec0b6",
   "metadata": {},
   "source": [
    "<div style='font-family:\"Times New Roman\"; line-height: 2;'>\n",
    "    <h3>Set Test Dataset with Selected Features</h3>\n",
    "</div>"
   ]
  },
  {
   "cell_type": "code",
   "execution_count": 78,
   "id": "ed671041",
   "metadata": {
    "deletable": false,
    "editable": false
   },
   "outputs": [],
   "source": [
    "# setting x_test\n",
    "x_test  = titanic_df[ titanic_df['set'] == 'Testing' ][x_target]"
   ]
  },
  {
   "cell_type": "markdown",
   "id": "d728f10a",
   "metadata": {},
   "source": [
    "<div style='font-family:\"Times New Roman\"; line-height: 2;'>\n",
    "    <h3>Prediction with best threshold</h3>\n",
    "</div>"
   ]
  },
  {
   "cell_type": "code",
   "execution_count": 79,
   "id": "fc0d439d",
   "metadata": {
    "deletable": false,
    "editable": false
   },
   "outputs": [],
   "source": [
    "# PREDICTING on new data\n",
    "model_pred_proba = model.predict_proba(x_test)\n",
    "proba_df = pd.DataFrame(model_pred_proba, columns=['Nagative', 'Positive'])\n",
    "\n",
    "# checking results\n",
    "model_pred = []\n",
    "\n",
    "# build predicted value with threshold\n",
    "for index, row in proba_df.iterrows():\n",
    "    if row['Positive'] > threshold['Threshold']:\n",
    "        model_pred.append(1)\n",
    "    else:\n",
    "        model_pred.append(0)\n",
    "\n",
    "# Final predictions\n",
    "model_pred = pd.Series(model_pred)"
   ]
  },
  {
   "cell_type": "markdown",
   "id": "4adfb6d0",
   "metadata": {},
   "source": [
    "<div style='font-family:\"Times New Roman\"; line-height: 2;'>\n",
    "    <h3>Build Data Frame with Prediction Result</h3>\n",
    "</div>"
   ]
  },
  {
   "cell_type": "code",
   "execution_count": 80,
   "id": "5a4831c5",
   "metadata": {
    "deletable": false,
    "editable": false
   },
   "outputs": [
    {
     "data": {
      "text/html": [
       "<div>\n",
       "<style scoped>\n",
       "    .dataframe tbody tr th:only-of-type {\n",
       "        vertical-align: middle;\n",
       "    }\n",
       "\n",
       "    .dataframe tbody tr th {\n",
       "        vertical-align: top;\n",
       "    }\n",
       "\n",
       "    .dataframe thead th {\n",
       "        text-align: right;\n",
       "    }\n",
       "</style>\n",
       "<table border=\"1\" class=\"dataframe\">\n",
       "  <thead>\n",
       "    <tr style=\"text-align: right;\">\n",
       "      <th></th>\n",
       "      <th>PassengerId</th>\n",
       "      <th>Transported</th>\n",
       "    </tr>\n",
       "  </thead>\n",
       "  <tbody>\n",
       "    <tr>\n",
       "      <th>0</th>\n",
       "      <td>0013_01</td>\n",
       "      <td>True</td>\n",
       "    </tr>\n",
       "    <tr>\n",
       "      <th>1</th>\n",
       "      <td>0018_01</td>\n",
       "      <td>False</td>\n",
       "    </tr>\n",
       "    <tr>\n",
       "      <th>2</th>\n",
       "      <td>0019_01</td>\n",
       "      <td>True</td>\n",
       "    </tr>\n",
       "    <tr>\n",
       "      <th>3</th>\n",
       "      <td>0021_01</td>\n",
       "      <td>True</td>\n",
       "    </tr>\n",
       "    <tr>\n",
       "      <th>4</th>\n",
       "      <td>0023_01</td>\n",
       "      <td>True</td>\n",
       "    </tr>\n",
       "  </tbody>\n",
       "</table>\n",
       "</div>"
      ],
      "text/plain": [
       "  PassengerId  Transported\n",
       "0     0013_01         True\n",
       "1     0018_01        False\n",
       "2     0019_01         True\n",
       "3     0021_01         True\n",
       "4     0023_01         True"
      ]
     },
     "execution_count": 80,
     "metadata": {},
     "output_type": "execute_result"
    }
   ],
   "source": [
    "# saving predictions with their respective Ids from the test set\n",
    "predictions = pd.DataFrame(data = { 'PassengerId' : titanic_test['PassengerId'],\n",
    "                                    'Transported' : model_pred.astype(bool)               } )\n",
    "\n",
    "# checking the results\n",
    "predictions.head(n = 5)"
   ]
  },
  {
   "cell_type": "markdown",
   "id": "d2d85b41",
   "metadata": {},
   "source": [
    "<div style='font-family:\"Times New Roman\"; line-height: 2;'>\n",
    "    <h3>Store Result</h3>\n",
    "</div>"
   ]
  },
  {
   "cell_type": "code",
   "execution_count": 81,
   "id": "a66161b4",
   "metadata": {
    "deletable": false,
    "editable": false
   },
   "outputs": [],
   "source": [
    "# sending predictions to .csv file\n",
    "predictions.to_csv(path_or_buf = 'submission.csv',\n",
    "                   index = False)"
   ]
  },
  {
   "cell_type": "markdown",
   "id": "35e2d024",
   "metadata": {},
   "source": [
    "<div style='font-family:\"Times New Roman\"; line-height: 2;'>\n",
    "    <h1>Conclusion</h1>\n",
    "    <p style='text-align: justify;'>&emsp;&emsp;In conclusion, the story of the spaceship Titanic highlights the value of leadership, teamwork, cooperation, and readiness while facing unforeseen problems.</p>\n",
    "    <p style='text-align: justify;'>&emsp;&emsp;The high percentage of transported passengers shows that working together and being prepared can increase survival chances in critical situations. The need to wake all passengers from CryoSleep in emergencies underscores the importance of advanced technologies and active human participation to improve preparedness and survival rates. The narrative also highlights the relevance of each person's contribution to aiding others and the value of collaboration in resolving challenging issues.</p>\n",
    "    <p style='text-align: justify;'>&emsp;&emsp;This study aimed to predict the transported status of passengers using different classification models, including Logistic Regression, Random Forest Classifier, and Gradient Boosting Classifier. The models were trained using a train-test split approach, with 25% of the train dataset used as the test set. The Gradient Boosting Classifier model with full features was the best-fitted model with an AUC score of 80.15. \n",
    "The model correctly predicted that 911 passengers were transported and 832 passengers were not. However, it predicted that 247 passengers would be transported, but they weren't, and 184 passengers wouldn't be transported, but they were.\n",
    "Our predicted labels which focus on accuracy, will provide the rescue team with adequate information on which passengers to retrieve and all other data that can help with the rescue effort.</p>\n",
    "</div>"
   ]
  },
  {
   "cell_type": "markdown",
   "id": "4c61287d",
   "metadata": {},
   "source": [
    "<div style='font-family:\"Times New Roman\"; line-height: 2;'>\n",
    "    <h1>References</h1>\n",
    "    <ul style='list-style-type: none;'>\n",
    "            <li style='text-indent: -5rem; margin-left: 5rem;'>Duprey, R., & O’Leary, B. (1983). <i>Spaceship Titanic</i>. Dodd Mead, 1983. <a href= 'https://www.amazon.com/Spaceship-Titanic-Richard-Duprey/dp/0396081878' type='_blank'>Link</a>.</li>\n",
    "        <li style='text-indent: -5rem; margin-left: 5rem;'>Maiwald, V., Schubert, D., Quantius, D., & Zabel, P. (2021). <i>From space back to Earth: supporting sustainable development with spaceflight technologies</i>. Sustainable Earth Reviews 4, 3 (2021). <a href='https://doi.org/10.1186/s42055-021-00042-9' type='_blank'>Link</a></li>\n",
    "        <li style='text-indent: -5rem; margin-left: 5rem;'>Nelson, B. (2021). <i>Policy Statement on Diversity, Equity, Inclusion, and Accessibility for NASA’s Workforce and Workplaces</i>. National Aeronautics and Space Administration Office of the Administrator.<a href='https://www.nasa.gov/sites/default/files/atoms/files/2021_administrator_policy_statement_on_deia_at_nasa_9-28-21_tagged.pdf' type='_blank'>Link</a>.</li>\n",
    "    </ul>\n",
    "</div>"
   ]
  }
 ],
 "metadata": {
  "kernelspec": {
   "display_name": "Python 3 (ipykernel)",
   "language": "python",
   "name": "python3"
  },
  "language_info": {
   "codemirror_mode": {
    "name": "ipython",
    "version": 3
   },
   "file_extension": ".py",
   "mimetype": "text/x-python",
   "name": "python",
   "nbconvert_exporter": "python",
   "pygments_lexer": "ipython3",
   "version": "3.9.13"
  },
  "toc": {
   "base_numbering": 1,
   "nav_menu": {},
   "number_sections": true,
   "sideBar": true,
   "skip_h1_title": false,
   "title_cell": "Table of Contents",
   "title_sidebar": "Contents",
   "toc_cell": false,
   "toc_position": {},
   "toc_section_display": true,
   "toc_window_display": false
  },
  "varInspector": {
   "cols": {
    "lenName": 16,
    "lenType": 16,
    "lenVar": 40
   },
   "kernels_config": {
    "python": {
     "delete_cmd_postfix": "",
     "delete_cmd_prefix": "del ",
     "library": "var_list.py",
     "varRefreshCmd": "print(var_dic_list())"
    },
    "r": {
     "delete_cmd_postfix": ") ",
     "delete_cmd_prefix": "rm(",
     "library": "var_list.r",
     "varRefreshCmd": "cat(var_dic_list()) "
    }
   },
   "types_to_exclude": [
    "module",
    "function",
    "builtin_function_or_method",
    "instance",
    "_Feature"
   ],
   "window_display": false
  }
 },
 "nbformat": 4,
 "nbformat_minor": 5
}
